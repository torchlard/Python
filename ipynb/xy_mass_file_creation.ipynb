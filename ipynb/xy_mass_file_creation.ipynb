{
 "cells": [
  {
   "cell_type": "code",
   "execution_count": 19,
   "metadata": {
    "collapsed": false
   },
   "outputs": [
    {
     "name": "stdout",
     "output_type": "stream",
     "text": [
      "done\n"
     ]
    }
   ],
   "source": [
    "import numpy as np\n",
    "from __future__ import division\n",
    "\n",
    "f=open(\"/home/lkit/xy_mass\")\n",
    "data=[map(float,line.split()) for line in f]\n",
    "f.close()\n",
    "f=open(\"/home/lkit/tmp/testing_mass\",'w')\n",
    "x=[]\n",
    "y=[]\n",
    "n=len(data)\n",
    "for i in data:\n",
    "    x.append(i[0]/4-700)\n",
    "    y.append(i[1]/4-700)\n",
    "\n",
    "f.write('\\t%d\\n' %(n))\n",
    "for i in range(n):\n",
    "    a=(data[i])[2]/1000000\n",
    "    b=(data[i])[3]/10\n",
    "    c=(data[i])[8]\n",
    "    f.write('%4d\\t%4d\\t%0.8f\\t %f\\t0.05\\t0\\t0\\t0\\t%d\\n' %(round(x[i]),round(y[i]),a,b,int(c)))\n",
    "\n",
    "f.close()\n",
    "print 'done'"
   ]
  },
  {
   "cell_type": "code",
   "execution_count": null,
   "metadata": {
    "collapsed": true
   },
   "outputs": [],
   "source": []
  }
 ],
 "metadata": {
  "kernelspec": {
   "display_name": "Python 2",
   "language": "python",
   "name": "python2"
  },
  "language_info": {
   "codemirror_mode": {
    "name": "ipython",
    "version": 2
   },
   "file_extension": ".py",
   "mimetype": "text/x-python",
   "name": "python",
   "nbconvert_exporter": "python",
   "pygments_lexer": "ipython2",
   "version": "2.7.11+"
  }
 },
 "nbformat": 4,
 "nbformat_minor": 0
}
