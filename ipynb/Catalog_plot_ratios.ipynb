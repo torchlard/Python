{
 "cells": [
  {
   "cell_type": "code",
   "execution_count": 21,
   "metadata": {
    "collapsed": false
   },
   "outputs": [
    {
     "name": "stdout",
     "output_type": "stream",
     "text": [
      "2860.5\n",
      "[ 3122.   3049.5  3019.5  2138.   2037.5  2062.5  2072.   2102.   4183.\n",
      "  4349.   4222.5  3081.5  3094.5  2894.5  1558.5  1536.   1559.5  2990.5\n",
      "  2975.   2856.   2599.   2555.   1967.   2644.   2888.5  3388.5  3868.5\n",
      "  3409.5  3060.5  3093.   2897.5  4025.5  2510.5  3919.   3345.   3734.\n",
      "  4247.5  3206.   2693.   3677.   3630.5  4486.   3965.5  2859.5  2870.\n",
      "  2784.5  2280.   2779.   2276.5  1525.5  1654.5  4188.   2168.   3774.5\n",
      "  3756.   4072.   3988.   3005.5  2960.   2876.   4148.5]\n"
     ]
    }
   ],
   "source": [
    "import numpy as np\n",
    "from __future__ import division\n",
    "f=open('/home/lkit/wslap/data/A370/image_region_5600scale.dat')\n",
    "l=np.asarray([map(float,line.split()) for line in f])\n",
    "f.close()\n",
    "cx=(l[:,0]+l[:,1])/2.\n",
    "cy=(l[:,2]+l[:,3])/2.\n",
    "print cx[1]\n",
    "print cy\n",
    "\n",
    "f=open('/home/lkit/wslap/data/A370/image_center_5600scale.dat','w')\n",
    "for i in range(len(cx)):\n",
    "    f.write('%.1f\\t\\t%.1f\\t\\t%.1f\\n' %(cx[i],cy[i],l[i,4]))\n",
    "f.close()"
   ]
  },
  {
   "cell_type": "code",
   "execution_count": 73,
   "metadata": {
    "collapsed": false
   },
   "outputs": [],
   "source": [
    "from operator import itemgetter, attrgetter\n",
    "buffer=12\n",
    "with file('/home/lkit/wslap/data/A370/image_center_5600scale.dat') as f:\n",
    "    center=np.asarray([map(float,line.split()) for line in f])\n",
    "cx=center[:,0]; cy=center[:,1];\n",
    "with file('/home/lkit/Data/Redshift_Catalog_5600scale') as f:\n",
    "    for i in range(31): next(f)\n",
    "    catalog=np.asarray([map(float,(line.split())[0:6]) for line in f])\n",
    "imx=catalog[:,1]; imy=catalog[:,2]\n",
    "id_list=[]; z=[]; zq=[]\n",
    "for i in range(len(catalog)):\n",
    "    for j in range(len(center)):\n",
    "        if (abs(cx[j]-imx[i])<=buffer and abs(cy[j]-imy[i])<=buffer):\n",
    "            id_list.append(center[j,2])\n",
    "            z.append(catalog[i,3])\n",
    "            zq.append(catalog[i,4])\n",
    "\n",
    "re=np.asarray([[x,y,z] for x,y,z in zip(id_list,z,zq)])\n",
    "zout=np.asarray(sorted(re, key=itemgetter(0)))\n",
    "\n",
    "s1='# id  redshift  quailty\\n'\n",
    "with file('/home/lkit/Data/GLASS/redshift','w') as f:\n",
    "    f.write(s1)\n",
    "    np.savetxt(f,zout,fmt='%.2f',delimiter='\\t')"
   ]
  },
  {
   "cell_type": "code",
   "execution_count": 86,
   "metadata": {
    "collapsed": false
   },
   "outputs": [],
   "source": [
    "from operator import itemgetter, attrgetter\n",
    "buffer=15\n",
    "with file('/home/lkit/wslap/data/A370/image_center_5600scale.dat') as f:\n",
    "    center=np.asarray([map(float,line.split()) for line in f])\n",
    "cx=center[:,0]; cy=center[:,1];\n",
    "with file('/home/lkit/Data/Source_Catalog_5600scale') as f:\n",
    "    for i in range(21): next(f)\n",
    "    catalog=np.asarray([map(float,line.split()) for line in f])\n",
    "imx=catalog[:,1]; imy=catalog[:,2]\n",
    "id_list=[]; flux_auto=[]; fluxerr_auto=[]; ra=[]; dec=[]\n",
    "for i in range(len(catalog)):\n",
    "    for j in range(len(center)):\n",
    "        if (abs(cx[j]-imx[i])<=buffer and abs(cy[j]-imy[i])<=buffer):\n",
    "            id_list.append(center[j,2])\n",
    "            flux_auto.append(catalog[i,25])\n",
    "            fluxerr_auto.append(catalog[i,26])\n",
    "            ra.append(catalog[i,3])\n",
    "            dec.append(catalog[i,4]+0.0000803)\n",
    "\n",
    "re=np.asarray([[x,y,z,z1,z2] for x,y,z,z1,z2 in zip(id_list,flux_auto,fluxerr_auto,ra,dec)])\n",
    "zout=np.asarray(sorted(re, key=itemgetter(0)))\n",
    "\n",
    "s1='# id  MAG_AUTO  MAGERR_AUTO     RA     DEC\\n'\n",
    "with file('/home/lkit/Data/GLASS/flux','w') as f:\n",
    "    f.write(s1)\n",
    "    np.savetxt(f,zout,fmt='%.6f',delimiter='\\t')"
   ]
  },
  {
   "cell_type": "code",
   "execution_count": 429,
   "metadata": {
    "collapsed": false
   },
   "outputs": [
    {
     "name": "stdout",
     "output_type": "stream",
     "text": [
      "[[  1.1         16.86397695   2.0960064 ]\n",
      " [  1.2         20.76251695   2.61524173]\n",
      " [  1.3         23.49416422   3.52290354]\n",
      " [  4.1          8.08499955   1.6380783 ]\n",
      " [  4.2          9.33598188   1.81439095]\n",
      " [  4.3          7.60256252   1.99328261]\n",
      " [  6.1         49.00044228   5.1453253 ]\n",
      " [  6.2         56.07896634   4.77828184]\n",
      " [  6.3         57.22687092   6.26889785]\n",
      " [  9.1          2.01595113   0.57012231]\n",
      " [  9.2          2.08065464   0.65703477]\n",
      " [  9.3          1.41370893   0.5325526 ]]\n"
     ]
    }
   ],
   "source": [
    "from __future__ import division\n",
    "import itertools\n",
    "from math import *\n",
    "def calc(x):\n",
    "    return 10**((26.46-x)/2.5)\n",
    "def fratio(x,y,dx,dy):\n",
    "    return (x/y)*sqrt((dx/x)**2+(dy/y)**2)\n",
    "def dex(x):\n",
    "    return x*10-int(x)*10\n",
    "def decomp(x):\n",
    "    name=[]\n",
    "    for i in x:\n",
    "        for j in i:\n",
    "            name.append(j)\n",
    "    return name\n",
    "with file('/home/lkit/Data/GLASS/flux') as f:\n",
    "    next(f)\n",
    "    l=np.asarray([map(float,line.split()) for line in f])\n",
    "idd=l[:,0]; mag=l[:,1]; magerr=l[:,2]\n",
    "flux=np.asarray(map(lambda x: 10**((26.46-x)/2.5), mag))    # mag -> flux\n",
    "fluxerr=[0.5*abs(calc(i[0]+i[1])-calc(i[0]-i[1])) for i in zip(mag,magerr)]\n",
    "data=np.asarray(zip(idd,flux,fluxerr))    #total combination\n",
    "print data\n",
    "\n",
    "####### 1.1/1.2, 1.2/1.3, 1.1/1.3 ###################\n",
    "# dig=set(map(lambda x: int(x), idd))    #result single digital number, key\n",
    "# step1=[[i for i in data if int(i[0])==j] for j in dig]\n",
    "# comb=np.asarray([[i for i in itertools.combinations(j,2)] for j in step1])\n",
    "# #print comb\n",
    "\n",
    "# name=[[[float(i[0]) for i in j] for j in k] for k in comb]\n",
    "# flux=[[[float(i[1]) for i in j] for j in k] for k in comb]\n",
    "# fluxerr=[[[float(i[1]) for i in j] for j in k] for k in comb]\n",
    "# flux_ratio=[[j[0]/j[1] for j in i] for i in flux]\n",
    "# fluxerr_ratio=[[fratio((j[0])[1],(j[1])[1],(j[0])[2],(j[1])[2]) for j in i]for i in comb]\n",
    "# #print fluxerr_ratio\n",
    "# name_ratio=[['%s/%s'%(i[0],i[1]) for i in a] for a in name]\n",
    "\n",
    "# data2=np.asarray(zip(name_ratio,flux_ratio))\n",
    "# #print data2\n",
    "\n",
    "################## 1.1/4.1/6.1/9.1 ... ###############\n",
    "\n",
    "key2=[j for j in itertools.combinations(dig,2)]\n",
    "key3=[set([dex(j) for j in i[:,0]]) for i in comb2]  #store set of first decimal place in each box\n",
    "#print key3\n",
    "comb2=np.asarray([[j for j in data if (int(j[0])==i[0] or int(j[0])==i[1])] for i in key2])  #bulk combination\n",
    "comb3=[];\n",
    "# print comb2\n",
    "for x in zip(comb2,key3):\n",
    "    comb3.append([[i for i in x[0] if dex(i[0])==kk] for kk in x[1]])\n",
    "# print np.asarray(comb3)\n",
    "name_ratio= decomp([['%s/%s'%((j[0])[0],(j[1])[0])  for j in i] for i in comb3])\n",
    "flux_ratio= decomp([[(j[0])[1]/(j[1])[1]  for j in i] for i in comb3])\n",
    "fluxerr_ratio=decomp([[fratio((j[0])[1],(j[1])[1],(j[0])[2],(j[1])[2])  for j in i] for i in comb3])\n",
    "# print fluxerr_ratio"
   ]
  },
  {
   "cell_type": "code",
   "execution_count": 433,
   "metadata": {
    "collapsed": false
   },
   "outputs": [
    {
     "name": "stdout",
     "output_type": "stream",
     "text": [
      "61.1206581187\n",
      "25.0235439413\n",
      "162.306279539\n",
      "5.51031469962\n"
     ]
    }
   ],
   "source": [
    "for i in range(0,12,3):\n",
    "    print (data[i,1]+data[i+1,1]+data[i+2,1])/1."
   ]
  },
  {
   "cell_type": "code",
   "execution_count": 308,
   "metadata": {
    "collapsed": false
   },
   "outputs": [],
   "source": [
    "# import matplotlib.pyplot as plt\n",
    "# name_r=[]; flux_r=[]; fluxerr_r=[]\n",
    "# [[name_r.append(j) for j in i] for i in name_ratio]\n",
    "# [[flux_r.append(j) for j in i] for i in flux_ratio]\n",
    "# [[fluxerr_r.append(j) for j in i] for i in fluxerr_ratio]\n",
    "# mag1=[7.90174,9.07285,10.7977]\n",
    "# mag4=[4.18165,5.99801,3.71509]\n",
    "# mag6=[4.19941,5.536,6.47561]\n",
    "# mag9=[2.41547,5.20147,5.02835]\n",
    "\n",
    "# n=len(name_r)\n",
    "\n",
    "# def rat(x):\n",
    "#     r=[0.]*3\n",
    "#     r[0]=x[0]/x[1]\n",
    "#     r[1]=x[0]/x[2]\n",
    "#     r[2]=x[1]/x[2]\n",
    "#     return r\n",
    "# mag_r=[]\n",
    "# for i in rat(mag1),rat(mag4),rat(mag6),rat(mag9):\n",
    "#     for j in i: mag_r.append(j)\n",
    "\n",
    "# flux_mag= np.asarray(flux_r)/np.asarray(mag_r)\n",
    "\n",
    "# ax = plt.subplot(111)\n",
    "# plt.errorbar(range(n),flux_r,fmt='o',yerr=fluxerr_r,label='flux',c='b')\n",
    "# plt.plot(range(n),mag_r,'o',label='magnitude',c='g')\n",
    "# plt.plot(range(n),flux_mag,'o',label='flux/mag',c='r')\n",
    "# for i in range(n):\n",
    "#     plt.text(i-0.25,0.3,name_r[i],fontsize=16)\n",
    "# plt.plot(range(n),[1]*n)\n",
    "    \n",
    "# plt.legend(loc='lower center', shadow=True, bbox_to_anchor=(0.5, -0.05),\n",
    "#           fancybox=True, ncol=3)\n",
    "# plt.suptitle('overview',fontsize=20)\n",
    "# plt.axis([-1, n,0,max(flux_mag)+0.25])\n",
    "# #ax.set_xticklabels([])\n",
    "# ax.xaxis.set_visible(False)\n",
    "\n",
    "# plt.show()\n"
   ]
  },
  {
   "cell_type": "code",
   "execution_count": 447,
   "metadata": {
    "collapsed": false
   },
   "outputs": [
    {
     "name": "stdout",
     "output_type": "stream",
     "text": [
      "[2.4425260571434757, 2.4425260571434757, 2.4425260571434757, 0.3765760529555699, 0.3765760529555699, 0.3765760529555699, 11.092044910414096, 11.092044910414096, 11.092044910414096, 0.15417483545537855, 0.15417483545537855, 0.15417483545537855, 4.5412186608916665, 4.5412186608916665, 4.5412186608916665, 29.45499275208236, 29.45499275208236, 29.45499275208236]\n"
     ]
    }
   ],
   "source": [
    "import matplotlib.pyplot as plt\n",
    "n=len(flux_ratio)\n",
    "ax = plt.subplot(111)\n",
    "const=[61.1206581187,25.0235439413,162.306279539,5.51031469962]\n",
    "const2=[i[0]/i[1] for i in itertools.combinations(const,2)]\n",
    "const3=[]\n",
    "for i in const2:\n",
    "    for j in range(3):\n",
    "        const3.append(i)\n",
    "flux_ratio=np.asarray(flux_ratio)\n",
    "\n",
    "#plt.errorbar(range(n),flux_ratio,fmt='o',yerr=fluxerr_ratio, label='flux',c='b')\n",
    "plt.plot(range(n),flux_ratio/const3,'o',c='b',label='flux')\n",
    "for i in range(n):\n",
    "    plt.text(i-0.25,0.4,name_ratio[i],fontsize=16)\n",
    "plt.axis([-1, n,0,max(flux_ratio/const3)+1])\n",
    "plt.legend(loc='lower center', shadow=True, bbox_to_anchor=(0.5, -0.05),\n",
    "          fancybox=True, ncol=3)\n",
    "ax.xaxis.set_visible(False)\n",
    "\n",
    "flux=[ [16.86397695 , 20.76251695 , 23.49416422],  [ 8.08499955 ,  9.33598188\n",
    "  , 7.60256252] , [49.00044228  ,56.07896634 , 57.22687092] ,  [2.01595113,\n",
    "   2.08065464 ,  1.41370893]]\n",
    "plt.show()\n",
    "\n",
    "# print flux_ratio\n",
    "# print fluxerr_ratio\n",
    "# count=0\n",
    "# for i in flux:\n",
    "#     if count<3:\n",
    "#         y.append(i)\n",
    "a=[sum(i) for i in flux]\n",
    "# print a\n"
   ]
  }
 ],
 "metadata": {
  "kernelspec": {
   "display_name": "Python 2",
   "language": "python",
   "name": "python2"
  },
  "language_info": {
   "codemirror_mode": {
    "name": "ipython",
    "version": 2
   },
   "file_extension": ".py",
   "mimetype": "text/x-python",
   "name": "python",
   "nbconvert_exporter": "python",
   "pygments_lexer": "ipython2",
   "version": "2.7.10"
  }
 },
 "nbformat": 4,
 "nbformat_minor": 0
}
