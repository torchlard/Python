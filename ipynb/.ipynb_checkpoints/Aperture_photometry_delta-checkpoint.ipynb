{
 "cells": [
  {
   "cell_type": "code",
   "execution_count": 162,
   "metadata": {
    "collapsed": false
   },
   "outputs": [
    {
     "name": "stdout",
     "output_type": "stream",
     "text": [
      "8712\n",
      "8712\n",
      "[[False False False ..., False False False]\n",
      " [False False False ..., False False False]\n",
      " [False False False ..., False False False]\n",
      " ..., \n",
      " [False False False ..., False False False]\n",
      " [False False False ..., False False False]\n",
      " [False False False ..., False False False]]\n"
     ]
    }
   ],
   "source": [
    "from scipy.optimize import leastsq\n",
    "import matplotlib.mlab\n",
    "import numpy as np\n",
    "import matplotlib.pyplot as plt\n",
    "import pyregion\n",
    "\n",
    "region_name = \"/home/lkit/Photometry/1.3.reg\"\n",
    "r = pyregion.open(region_name)\n",
    "\n",
    "x1= 2804\n",
    "x2= 2935\n",
    "y1= 3015\n",
    "y2= 3080\n",
    "\n",
    "mask_1or2 = r.get_mask(shape=(5600,5600))\n",
    "myfilter = r.get_filter()\n",
    "mask_1and2 = ((myfilter[0] &  myfilter[1])).mask((5600,5600))\n",
    "\n",
    "xor=mask_1or2[y1-1:y2,x1-1:x2]\n",
    "xand=mask_1and2[y1-1:y2,x1-1:x2]\n",
    "\n",
    "xor=xor.flatten()\n",
    "xand=xand.flatten()\n",
    "print (x2-x1+1)*(y2-y1+1)\n",
    "print len(xor)\n",
    "\n",
    "match=[]\n",
    "for i in range(len(xor)):\n",
    "    if xand[i]==xor[i]:\n",
    "        match.append(False)\n",
    "    else:\n",
    "        match.append(True)\n",
    "match=np.asarray(match)\n",
    "match=np.reshape(match,(y2-y1+1,x2-x1+1))\n",
    "xand=np.reshape(xand,(y2-y1+1,x2-x1+1))\n",
    "xor=np.reshape(xor,(y2-y1+1,x2-x1+1))\n",
    "print match\n",
    "\n",
    "\n",
    "plt.imshow(match, origin=\"lower\", interpolation=\"nearest\")\n",
    "plt.show()\n"
   ]
  },
  {
   "cell_type": "code",
   "execution_count": 163,
   "metadata": {
    "collapsed": false
   },
   "outputs": [
    {
     "name": "stdout",
     "output_type": "stream",
     "text": [
      "c1,mu1,sigma1=  [ 112.75360449   -1.111504     34.07362173]\n"
     ]
    }
   ],
   "source": [
    "f=fits.open('/home/lkit/Data/Jan_data/30mas_v0.5_f435w.fits')\n",
    "raw=np.asarray(f[0].data)\n",
    "f.close()\n",
    "newd=raw[y1-1:y2,x1-1:x2]*46260.\n",
    "\n",
    "value= []\n",
    "for i in range(x2-x1+1):     #extract value within annulus\n",
    "    for j in range(y2-y1+1):\n",
    "            if (match[j,i]):\n",
    "                value.append(newd[j,i])\n",
    "#print value\n",
    "\n",
    "fig = plt.figure()\n",
    "#ax = fig.gca(projection='2d')\n",
    "n,bins,patches=plt.hist(value, bins=100, histtype='stepfilled',align='mid') #define range\n",
    "#plt.show()\n",
    "#print 'n,bins,patches= ',n,bins,patches\n",
    "n_bins=[0]*(len(bins)-1)\n",
    "for i in range(0,len(bins)-1):\n",
    "    n_bins[i]=(bins[i]+bins[i+1])/2.\n",
    "    \n",
    "mean = sum(n)/len(n)      \n",
    "su=0\n",
    "for i in range(0,len(n)):\n",
    "    su=su+ n[i]*((n_bins[i]-mean)**2)/len(n)      #sigma=sqrt(sum[(x_i-mean)^2]/N)\n",
    "sigma = np.sqrt(su)\n",
    "#print sigma  \n",
    "x=n_bins;   y=n\n",
    "y_proc = np.copy(y)\n",
    "\n",
    "def gaussian(parms,x):\n",
    "    c1, mu1, sigma1=parms\n",
    "    res = c1 * np.exp( - (x - mu1)**2.0 / (2.0 * pow(sigma1,2.0))) \n",
    "    return res\n",
    "\n",
    "def gaussian_fit(parms,x):\n",
    "    c1, mu1, sigma1=parms\n",
    "    fit = c1 * np.exp( - (x - mu1)**2.0 / (2.0 * pow(sigma1,2.0))) \n",
    "    return (fit - y_proc)\n",
    "\n",
    "# Least squares fit. Starting values found by inspection.\n",
    "fit = leastsq( gaussian_fit,[3,100,40],args=(x) )\n",
    "#plot( x, y, c='b' )\n",
    "aa,bb,cc=fit[0]\n",
    "print 'c1,mu1,sigma1= ',fit[0]\n",
    "# #plot( x, double_gaussian( x, fit[0] ), c='r' )\n",
    "plot( x, gaussian([aa,bb,cc],x), c='r' )\n",
    "\n",
    "plt.show()\n"
   ]
  },
  {
   "cell_type": "code",
   "execution_count": 164,
   "metadata": {
    "collapsed": false
   },
   "outputs": [
    {
     "name": "stdout",
     "output_type": "stream",
     "text": [
      "percent=  2.15028077201 %\n",
      "delta,flux=  1335.62507188 62113.9848\n"
     ]
    }
   ],
   "source": [
    "from math import sqrt\n",
    "time= 2335.2\n",
    "\n",
    "#46260(f435w), 2335.206516 (f105w)\n",
    "\n",
    "area=1483.     #area of total flux in centre\n",
    "#error=(-2.618)/(7661.-1923.)*time*area\n",
    "#flux=2.618*time-error\n",
    "flux=26.599*time\n",
    "\n",
    "gauss=pow(34.07362173*sqrt(area),2)\n",
    "delta=sqrt(flux+gauss)\n",
    "print 'percent= ',delta/flux*100,'%'\n",
    "\n",
    "print 'delta,flux= ',delta,flux\n"
   ]
  },
  {
   "cell_type": "code",
   "execution_count": 150,
   "metadata": {
    "collapsed": false
   },
   "outputs": [],
   "source": [
    "from __future__ import division\n",
    "# flux=[44.494,41.0958,29.692762]\n",
    "# area=[2487.,4011.,3892.]\n",
    "# flux=[16.298,15.343,8.09576]\n",
    "# area=[4059,4119,3504]\n",
    "\n",
    "\n",
    "x1=np.arange(0,3)\n",
    "x2=np.arange(0.1,3.1)\n",
    "fr=[0]*3; ra=[0]*3; fa=[0]*3\n",
    "for i in range(3):\n",
    "    fr[i]=flux[i]/flux[(i+1)%3]\n",
    "    fa[i]=area[i]/area[(i+1)%3]\n",
    "\n",
    "for i in range(3):\n",
    "    ra[i]=fr[i]/fa[i]\n",
    "plt.axis([-1, 3,0,2.2]) \n",
    "plt.plot(x1,fa,'o',label='area ratio')\n",
    "plt.plot(x1,fr,'o',label='flux ratio')\n",
    "plt.plot(x1,ra,'o',label='flux:area')\n",
    "plt.legend(loc='lower center', shadow=True, bbox_to_anchor=(0.5, -0.05),\n",
    "          fancybox=True, ncol=3)\n",
    "plt.suptitle('F105W',fontsize=20)\n",
    "plt.text(0.,0.2,'6.1/6.2')\n",
    "plt.text(1.,0.2,'6.2/6.3')\n",
    "plt.text(2.,0.2,'6.3/6.1')\n",
    "\n",
    "plt.show()"
   ]
  }
 ],
 "metadata": {
  "kernelspec": {
   "display_name": "Python 2",
   "language": "python",
   "name": "python2"
  },
  "language_info": {
   "codemirror_mode": {
    "name": "ipython",
    "version": 2
   },
   "file_extension": ".py",
   "mimetype": "text/x-python",
   "name": "python",
   "nbconvert_exporter": "python",
   "pygments_lexer": "ipython2",
   "version": "2.7.10"
  }
 },
 "nbformat": 4,
 "nbformat_minor": 0
}
