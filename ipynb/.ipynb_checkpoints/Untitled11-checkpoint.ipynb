{
 "cells": [
  {
   "cell_type": "code",
   "execution_count": 26,
   "metadata": {
    "collapsed": false
   },
   "outputs": [
    {
     "name": "stdout",
     "output_type": "stream",
     "text": [
      "[[ 1.  1.  0.  1.]\n",
      " [ 1.  2.  0.  1.]\n",
      " [ 1.  3.  0.  1.]\n",
      " [ 1.  4.  0.  3.]\n",
      " [ 1.  5.  0.  2.]\n",
      " [ 1.  6.  0.  4.]\n",
      " [ 1.  7.  0.  1.]\n",
      " [ 1.  8.  0.  1.]]\n",
      "[[ 1.  1.  0.  1.]\n",
      " [ 1.  2.  0.  1.]\n",
      " [ 1.  3.  0.  1.]\n",
      " [ 1.  4.  0.  1.]\n",
      " [ 1.  5.  0.  1.]\n",
      " [ 1.  6.  0.  1.]\n",
      " [ 1.  7.  0.  1.]\n",
      " [ 1.  8.  0.  1.]]\n"
     ]
    }
   ],
   "source": [
    "import numpy as np\n",
    "f=open(\"/home/lkit/tmp/hey\")\n",
    "data=np.asarray([map(float,s.split()) for s in f])\n",
    "f.close()\n",
    "print data\n",
    "for i in range(len(data)):\n",
    "    if (data[i,3]!=1):\n",
    "        data[i,3]=1\n",
    "print data\n",
    "f=open('/home/lkit/tmp/how','w')\n",
    "for i in data:\n",
    "    for j in i:\n",
    "        f.write(\"%f.4\\t\" %j)\n",
    "    f.write(\"\\n\")\n",
    "f.close()\n"
   ]
  }
 ],
 "metadata": {
  "kernelspec": {
   "display_name": "Python 2",
   "language": "python",
   "name": "python2"
  },
  "language_info": {
   "codemirror_mode": {
    "name": "ipython",
    "version": 2
   },
   "file_extension": ".py",
   "mimetype": "text/x-python",
   "name": "python",
   "nbconvert_exporter": "python",
   "pygments_lexer": "ipython2",
   "version": "2.7.10"
  }
 },
 "nbformat": 4,
 "nbformat_minor": 0
}
