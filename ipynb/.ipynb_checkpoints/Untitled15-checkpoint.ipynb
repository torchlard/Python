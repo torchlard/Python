{
 "cells": [
  {
   "cell_type": "code",
   "execution_count": 8,
   "metadata": {
    "collapsed": false
   },
   "outputs": [
    {
     "name": "stdout",
     "output_type": "stream",
     "text": [
      "[(1.5594254281720752, 461), (1.617218141761545, 907), (1.6310801366119325, 1128), (1.633566122156231, 1360), (1.5860919215787428, 1812), (1.5768521532378394, 1968)]\n",
      "[(3.8711754425587754, 1339), (3.8810623061421454, 1690), (3.921734226877194, 1762), (3.857399542786548, 2232), (3.7347113081496333, 2975)]\n",
      "[(3.7586146028769747, 1395), (3.7165979372190123, 1467), (3.8488078962884607, 1850), (3.798844242145332, 2083), (3.803389619520592, 2583)]\n"
     ]
    }
   ],
   "source": [
    "from __future__ import division\n",
    "from itertools import combinations\n",
    "import numpy as np\n",
    "\n",
    "#-----------sys9-----------------\n",
    "flux1=[1.7336,1.9599,2.05726,2.1474,2.2707,2.3204]\n",
    "area1=[461,907,1128,1360,1812,1968]\n",
    "flux2=[4.1103,4.18287,4.2364,4.256,4.266]\n",
    "area2=[1339,1690,1762,2232,2975]\n",
    "flux3=[3.571,3.5193,3.6,3.5187,3.456]\n",
    "area3=[1395,1467,1850,2083,2583]\n",
    "#----------sys4----------------\n",
    "# flux1=[2.4856,2.6439,2.7212,2.8483]\n",
    "# area1=[1176,2048,2683,4129]\n",
    "# flux2=[3.019,3.3007,3.4553,3.7012,3.984]\n",
    "# area2=[1063,1648,2050,2905,4088]\n",
    "# flux3=[2.137,2.1988,2.2108,2.1957,2.1058]\n",
    "# area3=[829,1288,2003,2790,3761]\n",
    "#---------sys1------------------\n",
    "# flux1=[1.81129,1.9706,2.145,2.2583]\n",
    "# area1=[567,903,1398,1729]\n",
    "# flux2=[4.14059,4.1614,4.2635,4.2831,4.29956]\n",
    "# area2=[1381,1439,1846,2764,3327]\n",
    "# flux3=[3.56439,3.53644,3.4199]\n",
    "# area3=[1319,2004,2700]\n",
    "#--------sys6-------------\n",
    "# flux1=[9.843,13.153,13.4687,14.8984,16.826]\n",
    "# area1=[2367,4636,5029,6912,8449]\n",
    "# flux2=[14.494,18.7879,21.6056,26.11238]\n",
    "# area2=[2215,3521,4954,6532]\n",
    "# flux3=[12.506,15.8268,17.63,18.489]\n",
    "# area3=[2561,4466,6220,7387]\n",
    "\n",
    "def photometry(flux,area):\n",
    "    s=[]\n",
    "    n=range(len(flux))\n",
    "    for sub in combinations(n,2):\n",
    "        a1=flux[sub[0]]; a2=flux[sub[1]]\n",
    "        b1=area[sub[0]]; b2=area[sub[1]]\n",
    "        s.append((a2-a1)/(b2-b1))\n",
    "    total=[]\n",
    "    for i in n:\n",
    "        summ=[]\n",
    "        for j in s:\n",
    "            summ.append(flux[i]-area[i]*j)\n",
    "        total.append(sum(summ)/len(summ))\n",
    "    return zip(total,area)   \n",
    "\n",
    "\n",
    "print photometry(flux1,area1)\n",
    "print photometry(flux2,area2)\n",
    "print photometry(flux3,area3)"
   ]
  }
 ],
 "metadata": {
  "kernelspec": {
   "display_name": "Python 2",
   "language": "python",
   "name": "python2"
  },
  "language_info": {
   "codemirror_mode": {
    "name": "ipython",
    "version": 2
   },
   "file_extension": ".py",
   "mimetype": "text/x-python",
   "name": "python",
   "nbconvert_exporter": "python",
   "pygments_lexer": "ipython2",
   "version": "2.7.11+"
  }
 },
 "nbformat": 4,
 "nbformat_minor": 0
}
