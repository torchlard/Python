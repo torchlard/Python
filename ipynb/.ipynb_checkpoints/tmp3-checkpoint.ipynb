{
 "cells": [
  {
   "cell_type": "code",
   "execution_count": 133,
   "metadata": {
    "collapsed": false
   },
   "outputs": [
    {
     "name": "stdout",
     "output_type": "stream",
     "text": [
      "[[1.1, 27717.301645357802, 28657.134502922399]\n",
      " [1.2, 67766.772502528096, 68350.865694200198, 68495.52930909241, 68431.938105072593]\n",
      " [1.3, 61411.559069795301, 62092.035819469995, 62457.898936195699]\n",
      " [4.1, 39042.542832922001, 39537.566722478005, 39749.075762799999, 39834.405609530004]\n",
      " [4.2, 44708.143351052, 45159.681065668003, 45260.465189404]\n",
      " [4.3, 35747.523105312001, 35867.194142672, 35920.219435776002]\n",
      " [6.1, 2442.2866380479027, 2914.0927012477987, 3207.5032456517001, 3370.1046814528963]\n",
      " [6.2, 2045.6822429387976, 4012.6658976371982, 3949.0258303411974]\n",
      " [6.3, 3401.6258257738009, 3545.8972534001005, 3047.0449488261002]\n",
      " [9.1, 4551.1960784286002, 4604.9646017657997, 4595.3373493954005]\n",
      " [9.2, 3414.48101266, 3501.6934306600001, 3527.7647058799998]\n",
      " [9.3, 4660.0243902359998, 4689.0, 4678.4462540616005]]\n"
     ]
    }
   ],
   "source": [
    "import numpy as np\n",
    "import re\n",
    "\n",
    "l=\"\"\n",
    "f=file(\"/home/lkit/Photometry/RGB.dat\")\n",
    "for line in f:\n",
    "    l=l+line\n",
    "raw=(re.split('\\n\\n', l))\n",
    "\n",
    "flux= np.asarray([map(float,re.split('\\t',line)) for line in re.split('\\n',raw[0])])\n",
    "noise=np.asarray([map(float,line.split()) for line in raw[1:]])\n",
    "\n",
    "n=len(flux)\n",
    "result=(np.array([1.1,1.2,1.3,4.1,4.2,4.3,6.1,6.2,6.3,9.1,9.2,9.3])[:, np.newaxis]).tolist()\n",
    "\n",
    "for i in range(n):\n",
    "    for j in noise[i]:\n",
    "        (result[i]).append(flux[i,0]-flux[i,1]*j)\n",
    "        \n",
    "print np.array(result)"
   ]
  },
  {
   "cell_type": "code",
   "execution_count": 296,
   "metadata": {
    "collapsed": false
   },
   "outputs": [
    {
     "name": "stdout",
     "output_type": "stream",
     "text": [
      "[[7.663950260700388, 8.745486123275068, 8.95257951001335], [17.530997068551844, 18.088014590749122, 18.500479775083054], [17.41061667356322, 17.80787523445826, 18.406466644543183], [7.427978812244897, 7.6844691950749455, 7.635934227983538, 7.6291648946233686], [6.174514346236559, 6.805107563155267, 6.893136886703382], [6.082522992863678, 6.324042726808511, 6.372917937939859], [24.871362866966575, 26.010159426848247, 26.738251363636362], [30.461037157471875, 31.898611346011435, 32.82888002646351], [32.890522570770514, 34.735667695603155, 36.1935274662781]]\n",
      "[[0.004800433852140078, 0.0031467092916283358, 0.0028300527369826433], [0.005869499571550983, 0.005449742584213171, 0.005138917275747509], [0.004162108812260536, 0.0038583943161634104, 0.0034007556234379346], [0.0005713462244897966, 0.0003956678800856534, 0.0004289110082304531, 0.0004335475379291991], [0.00507083440860215, 0.004557322016974538, 0.004485636900078679], [0.0005631255260750228, 0.00031258638297872345, 0.000261885956493922], [0.0029832885604113134, 0.002562602723735409, 0.0022936363636363644], [0.007010016604177827, 0.006439550656344667, 0.0060703964180700365], [0.004280339614740369, 0.003662614430665164, 0.003174546211490425]]\n"
     ]
    }
   ],
   "source": [
    "from __future__ import division\n",
    "\n",
    "l=\"\"\n",
    "f=file(\"/home/lkit/Photometry/F105W.dat\")\n",
    "for line in f:\n",
    "    l=l+line\n",
    "raw=re.split('\\n\\t\\n',l)\n",
    "\n",
    "data=np.asarray([map(str,re.split('\\n',line)) for line in raw])  #1st dimension\n",
    "dat2=[]\n",
    "for i in range(len(data)):\n",
    "    data1=[map(str,re.split('\\t',line)) for line in data[i]]  #2nd dimension\n",
    "    dat2.append(data1)\n",
    "\n",
    "result=np.asarray([[[float(z) for z in y] for y in x] for x in dat2] )\n",
    "# print result\n",
    "# print '==============='\n",
    "# print ((result[1])[1])[:]\n",
    "n=9\n",
    "noise_array=[[] for i in range(n)]\n",
    "flux_array=[[] for i in range(n)]\n",
    "\n",
    "for i in range(len(result)):\n",
    "    for j in (result[i])[2:]:\n",
    "        f0=((result[i])[1])[0]\n",
    "        a0=((result[i])[1])[1]\n",
    "        noise=(j[0]-f0)/(j[1]-a0)\n",
    "        flux=f0-(a0*noise)\n",
    "        flux_array[i].append(flux)\n",
    "        noise_array[i].append(noise)\n",
    "        \n",
    "print flux_array\n",
    "print noise_array\n",
    "        "
   ]
  },
  {
   "cell_type": "code",
   "execution_count": 253,
   "metadata": {
    "collapsed": false
   },
   "outputs": [
    {
     "data": {
      "text/plain": [
       "[[[1.1], [10.803434, 654.0]], [[2.1], [3.2, 3.4]]]"
      ]
     },
     "execution_count": 253,
     "metadata": {},
     "output_type": "execute_result"
    }
   ],
   "source": [
    "nums=[[['1.1'], ['10.803434', '654']],[['2.1'],['3.2','3.4']] \n",
    "      ]\n",
    "\n",
    "# def myFloat(myList):\n",
    "#     return map(float, myList)\n",
    "# def myFloat2(myList):\n",
    "#     return map(float, myList)\n",
    "\n",
    "# map(myFloat, nums)\n",
    "\n"
   ]
  }
 ],
 "metadata": {
  "kernelspec": {
   "display_name": "Python 2",
   "language": "python",
   "name": "python2"
  },
  "language_info": {
   "codemirror_mode": {
    "name": "ipython",
    "version": 2
   },
   "file_extension": ".py",
   "mimetype": "text/x-python",
   "name": "python",
   "nbconvert_exporter": "python",
   "pygments_lexer": "ipython2",
   "version": "2.7.10"
  }
 },
 "nbformat": 4,
 "nbformat_minor": 0
}
