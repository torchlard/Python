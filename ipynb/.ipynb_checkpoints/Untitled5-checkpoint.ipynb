{
 "cells": [
  {
   "cell_type": "code",
   "execution_count": 8,
   "metadata": {
    "collapsed": false
   },
   "outputs": [
    {
     "name": "stdout",
     "output_type": "stream",
     "text": [
      "done\n"
     ]
    }
   ],
   "source": [
    "import numpy as np\n",
    "\n",
    "fnum=[1,2,5,6,7,8,9,10]\n",
    "for n in fnum:\n",
    "    f=open('/home/lkit/wslap/data/A370/fiducial/fiducial_mass_region'+str(n))\n",
    "    dat=np.asarray([map(int,line.split()) for line in f])\n",
    "    f.close()\n",
    "    s1='# color=green'\n",
    "    s2='physical'\n",
    "    f=open('/home/lkit/tmp/fmr'+str(n)+'.reg','w')\n",
    "    f.write('%s\\n' %s1)\n",
    "    f.write('%s\\n' %s2)\n",
    "    for i in range(len(dat)):\n",
    "        f.write('polygon %d %d %d %d %d %d %d %d\\n'\n",
    "                %(dat[i,0],dat[i,3],dat[i,1],dat[i,3],dat[i,1],dat[i,2],dat[i,0],dat[i,2] ))\n",
    "    f.close()\n",
    "\n",
    "print 'done'"
   ]
  },
  {
   "cell_type": "code",
   "execution_count": 26,
   "metadata": {
    "collapsed": false
   },
   "outputs": [
    {
     "name": "stdout",
     "output_type": "stream",
     "text": [
      "1\n"
     ]
    }
   ],
   "source": [
    "# f=open('/home/lkit/wslap/data/A370/fiducial/mass_map_A370.dat')\n",
    "# dat=np.asarray([map(float,line.split()) for line in f])\n",
    "# f.close()\n",
    "# for i in range(len(dat)):\n",
    "#     if dat[i,2]>0:\n",
    "#         print dat[i,2]\n",
    "print '1'\n",
    "dat=[0]"
   ]
  },
  {
   "cell_type": "code",
   "execution_count": 23,
   "metadata": {
    "collapsed": false
   },
   "outputs": [
    {
     "name": "stdout",
     "output_type": "stream",
     "text": [
      "0.12345678901234568\n"
     ]
    }
   ],
   "source": [
    "a=0.12345678901234567890123\n",
    "print '%.17f' %a"
   ]
  }
 ],
 "metadata": {
  "kernelspec": {
   "display_name": "Python 2",
   "language": "python",
   "name": "python2"
  },
  "language_info": {
   "codemirror_mode": {
    "name": "ipython",
    "version": 2
   },
   "file_extension": ".py",
   "mimetype": "text/x-python",
   "name": "python",
   "nbconvert_exporter": "python",
   "pygments_lexer": "ipython2",
   "version": "2.7.10"
  }
 },
 "nbformat": 4,
 "nbformat_minor": 0
}
