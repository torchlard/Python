{
 "cells": [
  {
   "cell_type": "code",
   "execution_count": 3,
   "metadata": {
    "collapsed": false
   },
   "outputs": [
    {
     "name": "stdout",
     "output_type": "stream",
     "text": [
      "[0.9688073394495412, 1.3351298383145518, 0.7731060606060606]\n"
     ]
    }
   ],
   "source": [
    "from __future__ import division\n",
    "from matplotlib import pyplot as plt\n",
    "\n",
    "#-------driver model--------\n",
    "# mag1=[5.1,17,14]\n",
    "# mag4=[4.3,5.2,3.9]\n",
    "# mag6=[3.7,6.5,6.4]\n",
    "# mag9=[4,5.8,5.4]\n",
    "#-------my model--------------\n",
    "mag1=[44.5968,12.0977,124.922]\n",
    "mag4=[14.98,26.0772,9.9501]\n",
    "mag6=[19.1,10.5358,32.8214]\n",
    "mag9 = [13.68,9.89,11.77]\n",
    "#-------Gold+silver system-----\n",
    "# mag1=[6.3,19,14]\n",
    "# mag4=[5.3,5.4,4.9]\n",
    "# mag6=[4.3,7.9,7.3]\n",
    "# mag9=[4.8,6.2,7]\n",
    "\n",
    "flux1=[1.59362551,3.9612432,3.701949]\n",
    "flux4=[2.334964,2.6594655,2.1351422]\n",
    "flux6=[9.843,14.494,12.506]\n",
    "#flux9=[1.5594254,3.87117544,3.758614]\n",
    "flux9=[0.2725,0.2041,0.264]\n",
    "#================================\n",
    "def ratios(arr):\n",
    "    s=[]\n",
    "    for i in range(len(arr)):\n",
    "        s.append(arr[i-1]/arr[i])\n",
    "    return s\n",
    "x=range(3)\n",
    "axis=[\"1.3/1.1\",\"1.1/1.2\",\"1.2/1.3\"]\n",
    "\n",
    "def plots(arr,color):\n",
    "    n=len(arr)\n",
    "    i=0\n",
    "    for sub in arr:\n",
    "        x=range(0+3*i,3+3*i)\n",
    "        plt.plot(x,ratios(sub),'o',c=color)\n",
    "        i+=1\n",
    "    plt.axis([-0.5,-0.5+3*n,0,3])\n",
    "\n",
    "def axis(arr):\n",
    "    count=0\n",
    "    for j in arr:\n",
    "        x=str(j)\n",
    "        xaxis=[x+\".3/\"+x+\".1\",x+\".1/\"+x+\".2\",x+\".2/\"+x+\".3\"]\n",
    "        for i in xaxis:\n",
    "            plt.text(count-0.25,0.2,i,fontsize=15)\n",
    "            count+=1\n",
    "            \n",
    "plots([mag1,mag4,mag6,mag9],'y')\n",
    "plots([flux1,flux4,flux6,flux9],'b')\n",
    "axis([1,4,6,9])\n",
    "\n",
    "plt.suptitle('Driver model(blue=flux ratio,yellow=magnification ratio)',fontsize=20)\n",
    "print ratios(flux9)\n",
    "plt.show()\n"
   ]
  },
  {
   "cell_type": "code",
   "execution_count": 13,
   "metadata": {
    "collapsed": false
   },
   "outputs": [],
   "source": [
    "from matplotlib import pyplot as plt\n",
    "i=[2.322972980019628, 0.40230438514858163, 1.070042618091173]\n",
    "j=[1.0203295212779044, 1.0038018809187315, 0.9763635157656745]\n",
    "plt.plot(i,j,'o')\n",
    "plt.show()"
   ]
  },
  {
   "cell_type": "code",
   "execution_count": 19,
   "metadata": {
    "collapsed": true
   },
   "outputs": [],
   "source": [
    "import matplotlib.pyplot as plt\n",
    "import matplotlib.cm as cmx\n",
    "import matplotlib.colors as colors\n",
    "\n",
    "def get_cmap(N):\n",
    "    '''Returns a function that maps each index in 0, 1, ... N-1 to a distinct \n",
    "    RGB color.'''\n",
    "    color_norm  = colors.Normalize(vmin=0, vmax=N-1)\n",
    "    scalar_map = cmx.ScalarMappable(norm=color_norm, cmap='hsv') # color map = 'hsv'\n",
    "    def map_index_to_rgb_color(index):\n",
    "        return scalar_map.to_rgba(index)\n",
    "    return map_index_to_rgb_color\n",
    "\n",
    "def main():\n",
    "    N = 60\n",
    "    fig=plt.figure()\n",
    "    ax=fig.add_subplot(111)   \n",
    "#     plt.axis('scaled')\n",
    "    ax.set_xlim([ 0, N])\n",
    "    ax.set_ylim([-0.5, 0.5])\n",
    "    cmap = get_cmap(N)\n",
    "    for i in range(N):\n",
    "        col = cmap(i)\n",
    "        rect = plt.Rectangle((i, -0.5), 1, 1, facecolor=col) # create rectangles of size(1,1)\n",
    "        ax.add_artist(rect)\n",
    "#     ax.set_yticks([])\n",
    "    plt.show()\n",
    "\n",
    "# if __name__=='__main__':\n",
    "main()"
   ]
  },
  {
   "cell_type": "code",
   "execution_count": 23,
   "metadata": {
    "collapsed": false
   },
   "outputs": [],
   "source": [
    "import numpy\n",
    "data=[(1,2),(2.5,3.5),(3,4)]\n",
    "for X,Y in data:\n",
    "    plt.plot(X, Y, c=numpy.random.rand(3,1))\n",
    "plt.show()"
   ]
  },
  {
   "cell_type": "code",
   "execution_count": 24,
   "metadata": {
    "collapsed": true
   },
   "outputs": [],
   "source": [
    "import numpy as np\n",
    "import matplotlib.pyplot as plt\n",
    "import matplotlib.colors as mcolors\n",
    "\n",
    "\n",
    "def make_colormap(seq):\n",
    "    \"\"\"Return a LinearSegmentedColormap\n",
    "    seq: a sequence of floats and RGB-tuples. The floats should be increasing\n",
    "    and in the interval (0,1).\n",
    "    \"\"\"\n",
    "    seq = [(None,) * 3, 0.0] + list(seq) + [1.0, (None,) * 3]\n",
    "    cdict = {'red': [], 'green': [], 'blue': []}\n",
    "    for i, item in enumerate(seq):\n",
    "        if isinstance(item, float): # if elements in item belongs to float\n",
    "            r1, g1, b1 = seq[i - 1]\n",
    "            r2, g2, b2 = seq[i + 1]\n",
    "            cdict['red'].append([item, r1, r2])\n",
    "            cdict['green'].append([item, g1, g2])\n",
    "            cdict['blue'].append([item, b1, b2])\n",
    "    return mcolors.LinearSegmentedColormap('CustomMap', cdict)\n",
    "\n",
    "\n",
    "c = mcolors.ColorConverter().to_rgb\n",
    "rvb = make_colormap(\n",
    "    [c('red'), c('violet'), 0.33, c('violet'), c('blue'), 0.66, c('blue')])\n",
    "N = 1000\n",
    "array_dg = np.random.uniform(0, 10, size=(N, 2))\n",
    "colors = np.random.uniform(-2, 2, size=(N,))\n",
    "plt.scatter(array_dg[:, 0], array_dg[:, 1], c=colors, cmap=rvb)\n",
    "plt.colorbar()\n",
    "plt.show()"
   ]
  },
  {
   "cell_type": "code",
   "execution_count": 35,
   "metadata": {
    "collapsed": false
   },
   "outputs": [
    {
     "name": "stdout",
     "output_type": "stream",
     "text": [
      "0 Spring\n",
      "1 Summer\n",
      "2 Fall\n",
      "3 Winter\n",
      "[(0, 'Spring'), (1, 'Summer'), (2, 'Fall'), (3, 'Winter')]\n"
     ]
    }
   ],
   "source": [
    "seasons = ['Spring', 'Summer', 'Fall', 'Winter']\n",
    "for i,j in list(enumerate(seasons)):\n",
    "    print i,j\n"
   ]
  }
 ],
 "metadata": {
  "kernelspec": {
   "display_name": "Python 2",
   "language": "python",
   "name": "python2"
  },
  "language_info": {
   "codemirror_mode": {
    "name": "ipython",
    "version": 2
   },
   "file_extension": ".py",
   "mimetype": "text/x-python",
   "name": "python",
   "nbconvert_exporter": "python",
   "pygments_lexer": "ipython2",
   "version": "2.7.11+"
  }
 },
 "nbformat": 4,
 "nbformat_minor": 0
}
