{
 "cells": [
  {
   "cell_type": "code",
   "execution_count": 303,
   "metadata": {
    "collapsed": false
   },
   "outputs": [
    {
     "name": "stdout",
     "output_type": "stream",
     "text": [
      "[[  0.00000000e+00   0.00000000e+00   0.00000000e+00 ...,  -2.33649029e-04\n",
      "    3.23010638e-04   3.04432731e-04]\n",
      " [  0.00000000e+00   0.00000000e+00   0.00000000e+00 ...,  -7.51029234e-04\n",
      "   -8.83585482e-04  -8.64662230e-04]\n",
      " [  0.00000000e+00   0.00000000e+00   0.00000000e+00 ...,   4.44757134e-05\n",
      "   -8.27662530e-04  -7.46857841e-04]\n",
      " ..., \n",
      " [  0.00000000e+00   0.00000000e+00   0.00000000e+00 ...,   0.00000000e+00\n",
      "    0.00000000e+00   0.00000000e+00]\n",
      " [  0.00000000e+00   0.00000000e+00   0.00000000e+00 ...,   0.00000000e+00\n",
      "    0.00000000e+00   0.00000000e+00]\n",
      " [  0.00000000e+00   0.00000000e+00   0.00000000e+00 ...,   0.00000000e+00\n",
      "    0.00000000e+00   0.00000000e+00]]\n"
     ]
    },
    {
     "ename": "NameError",
     "evalue": "name 'Axes3D' is not defined",
     "output_type": "error",
     "traceback": [
      "\u001b[1;31m---------------------------------------------------------------------------\u001b[0m",
      "\u001b[1;31mNameError\u001b[0m                                 Traceback (most recent call last)",
      "\u001b[1;32m<ipython-input-303-18a080524d6d>\u001b[0m in \u001b[0;36m<module>\u001b[1;34m()\u001b[0m\n\u001b[0;32m     25\u001b[0m \u001b[0my\u001b[0m\u001b[1;33m=\u001b[0m\u001b[0mnp\u001b[0m\u001b[1;33m.\u001b[0m\u001b[0marange\u001b[0m\u001b[1;33m(\u001b[0m\u001b[0my1\u001b[0m\u001b[1;33m,\u001b[0m\u001b[0my2\u001b[0m\u001b[1;33m,\u001b[0m\u001b[1;36m1\u001b[0m\u001b[1;33m)\u001b[0m\u001b[1;33m\u001b[0m\u001b[0m\n\u001b[0;32m     26\u001b[0m \u001b[1;31m#z=dat[x,y]\u001b[0m\u001b[1;33m\u001b[0m\u001b[1;33m\u001b[0m\u001b[0m\n\u001b[1;32m---> 27\u001b[1;33m \u001b[0max\u001b[0m \u001b[1;33m=\u001b[0m \u001b[0mAxes3D\u001b[0m\u001b[1;33m(\u001b[0m\u001b[0mfig\u001b[0m\u001b[1;33m)\u001b[0m\u001b[1;33m\u001b[0m\u001b[0m\n\u001b[0m\u001b[0;32m     28\u001b[0m \u001b[1;31m#x, y = np.meshgrid(x, y)\u001b[0m\u001b[1;33m\u001b[0m\u001b[1;33m\u001b[0m\u001b[0m\n\u001b[0;32m     29\u001b[0m \u001b[0max\u001b[0m\u001b[1;33m.\u001b[0m\u001b[0mplot_surface\u001b[0m\u001b[1;33m(\u001b[0m\u001b[0mx\u001b[0m\u001b[1;33m,\u001b[0m \u001b[0my\u001b[0m\u001b[1;33m,\u001b[0m\u001b[0mdat\u001b[0m\u001b[1;33m(\u001b[0m\u001b[0mx\u001b[0m\u001b[1;33m,\u001b[0m\u001b[0my\u001b[0m\u001b[1;33m)\u001b[0m \u001b[1;33m,\u001b[0m \u001b[0mrstride\u001b[0m\u001b[1;33m=\u001b[0m\u001b[1;36m1\u001b[0m\u001b[1;33m,\u001b[0m \u001b[0mcstride\u001b[0m\u001b[1;33m=\u001b[0m\u001b[1;36m1\u001b[0m\u001b[1;33m,\u001b[0m \u001b[0mcmap\u001b[0m\u001b[1;33m=\u001b[0m\u001b[1;34m'hot'\u001b[0m\u001b[1;33m)\u001b[0m\u001b[1;33m\u001b[0m\u001b[0m\n",
      "\u001b[1;31mNameError\u001b[0m: name 'Axes3D' is not defined"
     ]
    }
   ],
   "source": [
    "import numpy as np\n",
    "import matplotlib.pyplot as plt\n",
    "\n",
    "x1=2499\n",
    "x2=2996\n",
    "y1=3349\n",
    "y2=3837\n",
    "\n",
    "dat=np.zeros((x2-x1,y2-y1))\n",
    "\n",
    "\n",
    "f=fits.open('/home/lkit/Data/Jan_data/30mas_v0.5_f814w.fits')\n",
    "print f[0].data\n",
    "for i in xrange(x1,x2):\n",
    "    for j in xrange(y1,y2):\n",
    "        a=i-x1; b=j-y1\n",
    "        dat[a,b]=(f[0].data[i])[j]\n",
    "f.close()\n",
    "\n",
    "fig = plt.figure()#figsize=(6, 3.2))\n",
    "\n",
    "ax = fig.add_subplot(111)\n",
    "# ax.set_title('colorMap')  #title\n",
    "# plt.imshow(dat)\n",
    "#ax.set_aspect('equal')\n",
    "x=np.arange(x1,x2,1)\n",
    "y=np.arange(y1,y2,1)\n",
    "#z=dat[x,y]\n",
    "ax = Axes3D(fig)\n",
    "#x, y = np.meshgrid(x, y)\n",
    "ax.plot_surface(x, y,dat(x,y) , rstride=1, cstride=1, cmap='hot')\n",
    "# cax = fig.add_axes([0.12, 0.1, 0.78, 0.8])\n",
    "# cax.get_xaxis().set_visible(False)\n",
    "# cax.get_yaxis().set_visible(False)\n",
    "# cax.patch.set_alpha(0)\n",
    "# cax.set_frame_on(False)\n",
    "# plt.colorbar(orientation='vertical')\n",
    "plt.show()"
   ]
  },
  {
   "cell_type": "code",
   "execution_count": 1,
   "metadata": {
    "collapsed": false
   },
   "outputs": [
    {
     "name": "stdout",
     "output_type": "stream",
     "text": [
      "[[ 0.00231989  0.00298963  0.00374268 ...,  0.00343665  0.00358554\n",
      "   0.00342515]\n",
      " [ 0.00284749  0.00384557  0.00392822 ...,  0.00288882  0.00401201\n",
      "   0.00316889]\n",
      " [ 0.00312328  0.00347584  0.00340511 ...,  0.00305112  0.0033313\n",
      "   0.00197186]\n",
      " ..., \n",
      " [ 0.00369606  0.0042607   0.00420181 ...,  0.0036128   0.00313769\n",
      "   0.00302501]\n",
      " [ 0.00382569  0.00402895  0.00450171 ...,  0.00315546  0.00326513\n",
      "   0.00317234]\n",
      " [ 0.00382878  0.00396226  0.00350056 ...,  0.00377006  0.00454292\n",
      "   0.00448439]]\n"
     ]
    },
    {
     "ename": "KeyboardInterrupt",
     "evalue": "",
     "output_type": "error",
     "traceback": [
      "\u001b[1;31m---------------------------------------------------------------------------\u001b[0m",
      "\u001b[1;31mKeyboardInterrupt\u001b[0m                         Traceback (most recent call last)",
      "\u001b[1;32m<ipython-input-1-c9194770ec3f>\u001b[0m in \u001b[0;36m<module>\u001b[1;34m()\u001b[0m\n\u001b[0;32m     38\u001b[0m \u001b[1;31m# Z = np.sin(R)\u001b[0m\u001b[1;33m\u001b[0m\u001b[1;33m\u001b[0m\u001b[0m\n\u001b[0;32m     39\u001b[0m surf = ax.plot_surface(X, Y, zum, rstride=1, cstride=1 , cmap=cm.coolwarm,\n\u001b[1;32m---> 40\u001b[1;33m                        linewidth=0, antialiased=False)\n\u001b[0m\u001b[0;32m     41\u001b[0m \u001b[1;33m\u001b[0m\u001b[0m\n\u001b[0;32m     42\u001b[0m \u001b[1;31m#ax.set_zlim(-0.005, 0.005)\u001b[0m\u001b[1;33m\u001b[0m\u001b[1;33m\u001b[0m\u001b[0m\n",
      "\u001b[1;32m/usr/lib/python2.7/dist-packages/mpl_toolkits/mplot3d/axes3d.pyc\u001b[0m in \u001b[0;36mplot_surface\u001b[1;34m(self, X, Y, Z, *args, **kwargs)\u001b[0m\n\u001b[0;32m   1608\u001b[0m                     \u001b[0mzbase\u001b[0m \u001b[1;33m=\u001b[0m \u001b[0ma\u001b[0m\u001b[1;33m[\u001b[0m\u001b[0mmin\u001b[0m\u001b[1;33m(\u001b[0m\u001b[0mrows\u001b[0m\u001b[1;33m-\u001b[0m\u001b[1;36m1\u001b[0m\u001b[1;33m,\u001b[0m \u001b[0mrs\u001b[0m\u001b[1;33m+\u001b[0m\u001b[0mrstride\u001b[0m\u001b[1;33m)\u001b[0m\u001b[1;33m,\u001b[0m \u001b[0mcs\u001b[0m\u001b[1;33m:\u001b[0m\u001b[0mmin\u001b[0m\u001b[1;33m(\u001b[0m\u001b[0mcols\u001b[0m\u001b[1;33m,\u001b[0m \u001b[0mcs\u001b[0m\u001b[1;33m+\u001b[0m\u001b[0mcstride\u001b[0m\u001b[1;33m+\u001b[0m\u001b[1;36m1\u001b[0m\u001b[1;33m)\u001b[0m\u001b[1;33m:\u001b[0m\u001b[1;33m]\u001b[0m\u001b[1;33m[\u001b[0m\u001b[1;33m:\u001b[0m\u001b[1;33m:\u001b[0m\u001b[1;33m-\u001b[0m\u001b[1;36m1\u001b[0m\u001b[1;33m]\u001b[0m\u001b[1;33m\u001b[0m\u001b[0m\n\u001b[0;32m   1609\u001b[0m                     \u001b[0mzright\u001b[0m \u001b[1;33m=\u001b[0m \u001b[0ma\u001b[0m\u001b[1;33m[\u001b[0m\u001b[0mrs\u001b[0m\u001b[1;33m:\u001b[0m\u001b[0mmin\u001b[0m\u001b[1;33m(\u001b[0m\u001b[0mrows\u001b[0m\u001b[1;33m-\u001b[0m\u001b[1;36m1\u001b[0m\u001b[1;33m,\u001b[0m \u001b[0mrs\u001b[0m\u001b[1;33m+\u001b[0m\u001b[0mrstride\u001b[0m\u001b[1;33m)\u001b[0m\u001b[1;33m:\u001b[0m\u001b[1;33m,\u001b[0m \u001b[0mcs\u001b[0m\u001b[1;33m]\u001b[0m\u001b[1;33m[\u001b[0m\u001b[1;33m:\u001b[0m\u001b[1;33m:\u001b[0m\u001b[1;33m-\u001b[0m\u001b[1;36m1\u001b[0m\u001b[1;33m]\u001b[0m\u001b[1;33m\u001b[0m\u001b[0m\n\u001b[1;32m-> 1610\u001b[1;33m                     \u001b[0mz\u001b[0m \u001b[1;33m=\u001b[0m \u001b[0mnp\u001b[0m\u001b[1;33m.\u001b[0m\u001b[0mconcatenate\u001b[0m\u001b[1;33m(\u001b[0m\u001b[1;33m(\u001b[0m\u001b[0mztop\u001b[0m\u001b[1;33m,\u001b[0m \u001b[0mzleft\u001b[0m\u001b[1;33m,\u001b[0m \u001b[0mzbase\u001b[0m\u001b[1;33m,\u001b[0m \u001b[0mzright\u001b[0m\u001b[1;33m)\u001b[0m\u001b[1;33m)\u001b[0m\u001b[1;33m\u001b[0m\u001b[0m\n\u001b[0m\u001b[0;32m   1611\u001b[0m                     \u001b[0mps\u001b[0m\u001b[1;33m.\u001b[0m\u001b[0mappend\u001b[0m\u001b[1;33m(\u001b[0m\u001b[0mz\u001b[0m\u001b[1;33m)\u001b[0m\u001b[1;33m\u001b[0m\u001b[0m\n\u001b[0;32m   1612\u001b[0m \u001b[1;33m\u001b[0m\u001b[0m\n",
      "\u001b[1;31mKeyboardInterrupt\u001b[0m: "
     ]
    }
   ],
   "source": [
    "from mpl_toolkits.mplot3d import Axes3D\n",
    "from matplotlib import cm\n",
    "from matplotlib.ticker import LinearLocator, FormatStrFormatter\n",
    "import matplotlib.pyplot as plt\n",
    "import numpy as np\n",
    "from astropy.io import fits\n",
    "import scipy.ndimage\n",
    "\n",
    "\n",
    "x1=2499\n",
    "x2=2996\n",
    "y1=3349\n",
    "y2=3837\n",
    "fig = plt.figure()\n",
    "ax = fig.gca(projection='3d')\n",
    "#dat=np.zeros((x2-x1,y2-y1))\n",
    "\n",
    "# f=fits.open('/home/lkit/Data/Jan_data/30mas_v0.5_f814w.fits')\n",
    "# for i in xrange(x1,x2):\n",
    "#     for j in xrange(y1,y2):\n",
    "#         a=i-x1; b=j-y1\n",
    "#         dat[a,b]=(f[0].data[i])[j]\n",
    "# f.close()\n",
    "f=open('/home/lkit/tmp/30mas_v0.5_bcg1.txt')\n",
    "dat=np.asarray([map(float,line.split()) for line in f])\n",
    "f.close()\n",
    "dat=np.reshape(dat,(y2-y1+1,x2-x1+1))\n",
    "\n",
    "zum = scipy.ndimage.zoom(dat, 3)\n",
    "\n",
    "X = np.arange((x2-x1+1)*3)\n",
    "Y = np.arange((y2-y1+1)*3)\n",
    "X, Y = np.meshgrid(X, Y)\n",
    "#Z=dat[X,Y]\n",
    "print dat\n",
    "\n",
    "# R = np.sqrt(X**2 + Y**2)\n",
    "# Z = np.sin(R)\n",
    "surf = ax.plot_surface(X, Y, zum, rstride=1, cstride=1 , cmap=cm.coolwarm,\n",
    "                       linewidth=0, antialiased=False)\n",
    "\n",
    "#ax.set_zlim(-0.005, 0.005)\n",
    "#ax.zaxis.set_major_locator(LinearLocator(10))\n",
    "ax.zaxis.set_major_formatter(FormatStrFormatter('%.02f'))\n",
    "\n",
    "fig.colorbar(surf, shrink=0.5, aspect=5)\n",
    "\n",
    "plt.show()\n"
   ]
  }
 ],
 "metadata": {
  "kernelspec": {
   "display_name": "Python 2",
   "language": "python",
   "name": "python2"
  },
  "language_info": {
   "codemirror_mode": {
    "name": "ipython",
    "version": 2
   },
   "file_extension": ".py",
   "mimetype": "text/x-python",
   "name": "python",
   "nbconvert_exporter": "python",
   "pygments_lexer": "ipython2",
   "version": "2.7.10"
  }
 },
 "nbformat": 4,
 "nbformat_minor": 0
}
