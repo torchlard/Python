{
 "cells": [
  {
   "cell_type": "code",
   "execution_count": 18,
   "metadata": {
    "collapsed": false
   },
   "outputs": [
    {
     "name": "stdout",
     "output_type": "stream",
     "text": [
      "fw=  [2.32936835, 2.8369626, 1.897565499, 0.26956595, 0.2083484368, 0.26369583199999996]\n"
     ]
    }
   ],
   "source": [
    "import numpy as np\n",
    "import matplotlib.pyplot as plt\n",
    "import math.sqrt as sqrt\n",
    "\n",
    "flux1=[2.5486,3.047,1.915,0.251,0.217,0.29] #f435w (30mas)[new]\n",
    "noise1=[1.5829e-4,1.783e-4,2.4181e-5,-9.521e-5,6.00803e-5,1.40664e-4]  #f435w\n",
    "area1=[1385,1178,721,195,144,187] #f435w\n",
    "t1=46260\n",
    "\n",
    "flux2=[3.454,4.04,2.819,0.3417,0.323,0.3405] #f475w(30mas)[old]\n",
    "noise2=[3.1537e-5,1.8263e-4,-2.2544e-4,-3.2489e-4,4.4379e-4,-3.1245e-5] #f475w\n",
    "area2=[1388,1187,734,194,144,188] #f475w\n",
    "t2=18060\n",
    "\n",
    "#flux=[3.454,4.04,2.819,0.366,0.323,0.3405] #testing\n",
    "#mag=[3.97882,6.6541,3.09998,4.07544,4.64381,2.49811]   #old model\n",
    "#mag=[6.04132,7.63286,4.06299,5.72608,6.11397,4.22146]   #new model_v1\n",
    "mag=[4.99292,9.59139,3.88939,5.33064,5.28427,3.64567]   #new_model_v2\n",
    "\n",
    "mag_ratio=[0]*6\n",
    "flux_ratio=[0]*6\n",
    "flux_mag=[0]*6\n",
    "flux_flux1=[0]*3\n",
    "flux_flux2=[0]*3\n",
    "fw1=[0]*6\n",
    "fw2=[0]*6\n",
    "error1=[0]*6\n",
    "error2=[0]*6\n",
    "for i in range(6):\n",
    "    fw1[i]=flux1[i]-noise1[i]*area1[i]\n",
    "    fw2[i]=flux2[i]-noise2[i]*area2[i]\n",
    "    error1[i]=sqrt(fw1[i]/(area1[i]*t1*1.))\n",
    "    error2[i]=sqrt(fw2[i]/(area2[i]*t2*1.))\n",
    "    \n",
    "print 'error= ',error1,error2\n",
    "for i in range(3):\n",
    "#     print i,(i+1)%3+(i/3)*3\n",
    "#     mag_ratio[i]=mag[i]/mag[(i+1)%3+(i/3)*3]\n",
    "#     flux_ratio[i]=(fw[i])/(fw[(i+1)%3+(i/3)*3])\n",
    "#     flux_mag[i]=flux_ratio[i]/mag_ratio[i]\n",
    "    flux_flux1[i]=fw1[5-i]*1./fw1[i]\n",
    "    flux_flux2[i]=fw2[5-i]*1./fw2[i]\n",
    "    \n",
    "x=range(3)\n",
    "y=[0.73]*3\n",
    "#x=['4.1/4.2','4.2/4.3','4.3/4.1','9.1,9.2','9.2/9.3','9.3/9.1']\n",
    "#plt.figure()\n",
    "# plt.plot(x,mag_ratio,'o',label='magnification ratio')\n",
    "# plt.plot(x,flux_ratio,'o',label='flux ratio')\n",
    "# plt.plot(x,flux_mag,'o',label='flux ratio:mag ratio')\n",
    "plt.errorbar(x,flux_flux1,'o',label='flux ratio 435')\n",
    "plt.errorbar(x,flux_flux2,'o',label='flux ratio 475')\n",
    "plt.axis([-1, 3,0,0.4])\n",
    "plt.legend(loc='upper center', shadow=True)\n",
    "#plt.suptitle('f435w',fontsize=20)\n",
    "# plt.text(-0.2,0.2,'l4.1/m4.2')\n",
    "# plt.text(0.8,0.2,'m4.2/r4.3')\n",
    "# plt.text(1.8,0.2,'r4.3/l4.1')\n",
    "# plt.text(2.8,0.2,'r9.1/m9.2')\n",
    "# plt.text(3.8,0.2,'m9.2/l9.3')\n",
    "# plt.text(4.8,0.2,'l9.3/r9.1')\n",
    "plt.text(1.8,0.2,'r9.1/r4.3')\n",
    "plt.text(0.8,0.2,'m9.2/m4.2')\n",
    "plt.text(-0.2,0.2,'l9.3/l4.1')\n",
    "#plt.plot(x,y)\n",
    "\n",
    "plt.show()\n"
   ]
  },
  {
   "cell_type": "code",
   "execution_count": null,
   "metadata": {
    "collapsed": true
   },
   "outputs": [],
   "source": []
  }
 ],
 "metadata": {
  "kernelspec": {
   "display_name": "Python 2",
   "language": "python",
   "name": "python2"
  },
  "language_info": {
   "codemirror_mode": {
    "name": "ipython",
    "version": 2
   },
   "file_extension": ".py",
   "mimetype": "text/x-python",
   "name": "python",
   "nbconvert_exporter": "python",
   "pygments_lexer": "ipython2",
   "version": "2.7.10"
  }
 },
 "nbformat": 4,
 "nbformat_minor": 0
}
