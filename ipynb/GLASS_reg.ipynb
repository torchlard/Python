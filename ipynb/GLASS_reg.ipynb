{
 "cells": [
  {
   "cell_type": "code",
   "execution_count": 28,
   "metadata": {
    "collapsed": false
   },
   "outputs": [
    {
     "name": "stdout",
     "output_type": "stream",
     "text": [
      "finish\n"
     ]
    }
   ],
   "source": [
    "import numpy as np\n",
    "f=open('/home/lkit/Data/Source_Catalog_5600scale')\n",
    "for i in range(21):\n",
    "    next(f)\n",
    "l=np.asarray([map(float,line.split()) for line in f])\n",
    "f.close()\n",
    "n=len(l)\n",
    "ra=l[:,1]\n",
    "dec=l[:,2]     #+0.0000803\n",
    "flux_auto=l[:,23]\n",
    "mag_auto=l[:,25]\n",
    "\n",
    "s1='global color=red'\n",
    "s2='image'\n",
    "f=open('/home/lkit/Ds9_regions/GLASS/source_catalog_mag_5600scale.reg','w')\n",
    "f.write(s1); f.write('\\n')\n",
    "f.write(s2); f.write('\\n')\n",
    "for i in range(n):\n",
    "    f.write('text\\t%f\\t%f\\t{%.4f}\\n' %(ra[i],dec[i],mag_auto[i]))\n",
    "f.close()\n",
    "print 'finish'"
   ]
  },
  {
   "cell_type": "code",
   "execution_count": 26,
   "metadata": {
    "collapsed": false
   },
   "outputs": [
    {
     "name": "stdout",
     "output_type": "stream",
     "text": [
      "finish\n"
     ]
    }
   ],
   "source": [
    "f=open('/home/lkit/Data/GlassGigCataog_5600scale')\n",
    "for i in range(37):\n",
    "    next(f)\n",
    "l=np.asarray([map(float,line.split()) for line in f])\n",
    "f.close()\n",
    "n=len(l)\n",
    "ra=l[:,1]; dec=l[:,2]+0.0000803\n",
    "mag=l[:,5]\n",
    "\n",
    "s1='global color=red'\n",
    "s2='image'\n",
    "f=open('/home/lkit/Ds9_regions/GLASS/Glass_gig_catalog_5600scale.reg','w')\n",
    "f.write(s1); f.write('\\n')\n",
    "f.write(s2); f.write('\\n')\n",
    "for i in range(n):\n",
    "    f.write('text\\t%f\\t%f\\t{%.4f}\\n' %(ra[i],dec[i],mag[i]))\n",
    "f.close()\n",
    "print 'finish'"
   ]
  },
  {
   "cell_type": "code",
   "execution_count": 27,
   "metadata": {
    "collapsed": false
   },
   "outputs": [
    {
     "name": "stdout",
     "output_type": "stream",
     "text": [
      "finish\n"
     ]
    }
   ],
   "source": [
    "f=open('/home/lkit/Data/Redshift_Catalog_5600scale')\n",
    "for i in range(31):\n",
    "    next(f)\n",
    "l=np.asarray([map(float,(line.split())[0:6]) for line in f])\n",
    "l=np.asarray(filter(lambda x: x[3]!=-1, l))\n",
    "f.close()\n",
    "n=len(l)\n",
    "ra=l[:,1]; dec=l[:,2]+0.0000803;  redshift=l[:,3]; quailty=l[:,4]\n",
    "\n",
    "# ra1=[]; ra2=[]; ra3=[]; ra4=[];\n",
    "# dec1=[]; dec2=[]; dec3=[]; dec4=[];\n",
    "# z1=[]; z2=[]; z3=[]; z4=[];\n",
    "\n",
    "# for i in range(n):\n",
    "#     if quailty[i]>=1:\n",
    "#         ra1.append(ra[i]); dec1.append(dec[i]); z1.append(redshift[i])\n",
    "#     if quailty[i]>=2:\n",
    "#         ra2.append(ra[i]); dec2.append(dec[i]); z2.append(redshift[i])\n",
    "#     if quailty[i]>=3:\n",
    "#         ra3.append(ra[i]); dec3.append(dec[i]); z3.append(redshift[i])\n",
    "#     if quailty[i]>=4:\n",
    "#         ra4.append(ra[i]); dec4.append(dec[i]); z4.append(redshift[i])\n",
    "        \n",
    "s1='global color=red'\n",
    "s2='image'\n",
    "# f=open('/home/lkit/Ds9_regions/GLASS/Redshift_catalog_q>=1.reg','w')\n",
    "# f.write(s1); f.write('\\n')\n",
    "# f.write(s2); f.write('\\n')\n",
    "# for i in range(n):\n",
    "#     f.write('text\\t%f\\t%f\\t{%.4f}\\n' %(ra1[i],dec1[i],z1[i]))\n",
    "# f.close()\n",
    "# f=open('/home/lkit/Ds9_regions/GLASS/Redshift_catalog_q>=2.reg','w')\n",
    "# f.write(s1); f.write('\\n')\n",
    "# f.write(s2); f.write('\\n')\n",
    "# for i in range(len(ra2)):\n",
    "#     f.write('text\\t%f\\t%f\\t{%.4f}\\n' %(ra2[i],dec2[i],z2[i]))\n",
    "# f.close()\n",
    "# f=open('/home/lkit/Ds9_regions/GLASS/Redshift_catalog_q>=3.reg','w')\n",
    "# f.write(s1); f.write('\\n')\n",
    "# f.write(s2); f.write('\\n')\n",
    "# for i in range(len(ra3)):\n",
    "#     f.write('text\\t%f\\t%f\\t{%.4f}\\n' %(ra3[i],dec3[i],z3[i]))\n",
    "# f.close()\n",
    "# f=open('/home/lkit/Ds9_regions/GLASS/Redshift_catalog_q>=4.reg','w')\n",
    "# f.write(s1); f.write('\\n')\n",
    "# f.write(s2); f.write('\\n')\n",
    "# for i in range(len(ra4)):\n",
    "#     f.write('text\\t%f\\t%f\\t{%.4f}\\n' %(ra4[i],dec4[i],z4[i]))\n",
    "# f.close()\n",
    "f=open('/home/lkit/Ds9_regions/GLASS/Redshift_catalog_color_5600scale.reg','w')\n",
    "f.write(s1); f.write('\\n')\n",
    "f.write(s2); f.write('\\n')\n",
    "for i in range(n):\n",
    "    if quailty[i]==1:\n",
    "        f.write('text\\t%f\\t%f\\t{%.3f} # color=magenta\\n' %(ra[i],dec[i],redshift[i]))\n",
    "    if quailty[i]==2:\n",
    "        f.write('text\\t%f\\t%f\\t{%.3f} # color=cyan\\n' %(ra[i],dec[i],redshift[i]))\n",
    "    if quailty[i]==2.5:\n",
    "        f.write('text\\t%f\\t%f\\t{%.3f} # color=cyan\\n' %(ra[i],dec[i],redshift[i]))\n",
    "    if quailty[i]==3:\n",
    "        f.write('text\\t%f\\t%f\\t{%.3f} # color=green\\n' %(ra[i],dec[i],redshift[i]))\n",
    "    if quailty[i]==3.5:\n",
    "        f.write('text\\t%f\\t%f\\t{%.3f} # color=green\\n' %(ra[i],dec[i],redshift[i]))\n",
    "    if quailty[i]==4:\n",
    "        f.write('text\\t%f\\t%f\\t{%.3f} # color=red\\n' %(ra[i],dec[i],redshift[i]))\n",
    "f.close()\n",
    "print 'finish'\n"
   ]
  },
  {
   "cell_type": "code",
   "execution_count": 13,
   "metadata": {
    "collapsed": false
   },
   "outputs": [],
   "source": [
    "from matplotlib import pyplot as plt\n",
    "plt.hist(ra3,bins=70)#0,range=(0.35,0.4))\n",
    "plt.xlabel('redshift')\n",
    "plt.ylabel('frequency')\n",
    "plt.show()"
   ]
  },
  {
   "cell_type": "code",
   "execution_count": 94,
   "metadata": {
    "collapsed": false
   },
   "outputs": [
    {
     "name": "stdout",
     "output_type": "stream",
     "text": [
      "finish\n"
     ]
    }
   ],
   "source": [
    "core=np.asarray(filter(lambda x: (x[3]<=0.5 and x[3]>=0.3) , l))\n",
    "ra=core[:,1]; dec=core[:,2]+0.0000803;  redshift=core[:,3]\n",
    "n=len(core)\n",
    "s1='global color=red'\n",
    "s2='fk5'\n",
    "f=open('/home/lkit/Ds9_regions/GLASS/core_z.reg','w')\n",
    "f.write(s1); f.write('\\n')\n",
    "f.write(s2); f.write('\\n')\n",
    "for i in range(n):\n",
    "    f.write('text\\t%f\\t%f\\t{%.4f}\\n' %(ra[i],dec[i],redshift[i]))\n",
    "f.close()\n",
    "\n",
    "f=open('/home/lkit/Ds9_regions/GLASS/member_indication.reg','w')\n",
    "f.write(s1); f.write('\\n')\n",
    "f.write(s2); f.write('\\n')\n",
    "for i in range(n):\n",
    "    f.write('boxcircle point %f %f\\n' %(ra[i],dec[i]))\n",
    "f.close()\n",
    "print 'finish'"
   ]
  },
  {
   "cell_type": "code",
   "execution_count": null,
   "metadata": {
    "collapsed": true
   },
   "outputs": [],
   "source": []
  }
 ],
 "metadata": {
  "kernelspec": {
   "display_name": "Python 2",
   "language": "python",
   "name": "python2"
  },
  "language_info": {
   "codemirror_mode": {
    "name": "ipython",
    "version": 2
   },
   "file_extension": ".py",
   "mimetype": "text/x-python",
   "name": "python",
   "nbconvert_exporter": "python",
   "pygments_lexer": "ipython2",
   "version": "2.7.10"
  }
 },
 "nbformat": 4,
 "nbformat_minor": 0
}
