{
 "cells": [
  {
   "cell_type": "code",
   "execution_count": 16,
   "metadata": {
    "collapsed": false
   },
   "outputs": [],
   "source": [
    "from math import sqrt\n",
    "from mpl_toolkits.mplot3d import Axes3D\n",
    "from matplotlib import cm\n",
    "from matplotlib.ticker import LinearLocator, FormatStrFormatter\n",
    "# import matplotlib.pyplot as plt\n",
    "# import numpy as np\n",
    "# from astropy.io import fits\n",
    "# import scipy.ndimage\n",
    "# import sys\n",
    "\n",
    "# x1=3583\n",
    "# x2=3620\n",
    "# y1=2880\n",
    "# y2=2916\n",
    "\n",
    "\n",
    "# def circle(x,r):\n",
    "#     r2=17.979\n",
    "# #     i1=sqrt(pow(r,2)-pow(x-int(r2),2))+int(r2)\n",
    "# #     i2=-sqrt(pow(r,2)-pow(x-int(r2),2))+int(r2)\n",
    "#     i1=sqrt(pow(r,2)-pow(x-(r2),2))+(r2)\n",
    "#     i2=-sqrt(pow(r,2)-pow(x-(r2),2))+(r2)\n",
    "#     return i1,i2\n",
    "\n",
    "# r1=8.989\n",
    "# r2=17.979\n",
    "\n",
    "    \n",
    "# x=[]\n",
    "# y=[]\n",
    "# for i in range(int(round(r2*2))):\n",
    "#     for j in range(int(round(r2*2))):\n",
    "# #         if (i>=0 and i<=int(r2-r1)) or (i>=int(r2+r1) and i<=int(r2*2)):\n",
    "# #             if circle(i,r2)[0]>=j and circle(i,r2)[1]<=j:\n",
    "# #                 x.append(i); y.append(j)\n",
    "# #         elif (i>=int(r2-r1) and i<=int(r2+r1)):\n",
    "# #             if (circle(i,r2)[0]>=j and circle(i,r1)[0]<=j) or (circle(i,r1)[1]>=j and circle(i,r2)[1]<=j):\n",
    "# #                 x.append(i); y.append(j)\n",
    "#         if (i>=0 and i<=(r2-r1)) or (i>=(r2+r1) and i<=(r2*2)):\n",
    "#             if circle(i,r2)[0]>=j and circle(i,r2)[1]<=j:\n",
    "#                 x.append(i); y.append(j)\n",
    "#         elif (i>=(r2-r1) and i<=(r2+r1)):\n",
    "#             if (circle(i,r2)[0]>=j and circle(i,r1)[0]<=j) or (circle(i,r1)[1]>=j and circle(i,r2)[1]<=j):\n",
    "#                 x.append(i); y.append(j)\n",
    "# plt.scatter(x,y)\n",
    "# plt.show()\n",
    "\n",
    "# f=fits.open('/home/lkit/Data/Jan_data/30mas_v0.5_f435w.fits')\n",
    "# raw=np.asarray(f[0].data)\n",
    "# f.close()\n",
    "# newd=raw[y1-1:y2,x1-1:x2]*46260.\n",
    "\n",
    "# value= []\n",
    "# for i in range(x2-x1+1):     #extract value within annulus\n",
    "#     for j in range(y2-y1+1):\n",
    "#         for k in range(len(x)):\n",
    "#             if (i==x[k] and j==y[k]):\n",
    "#                 value.append(newd[i,j])\n",
    "\n",
    "# #print value"
   ]
  },
  {
   "cell_type": "code",
   "execution_count": 23,
   "metadata": {
    "collapsed": false
   },
   "outputs": [
    {
     "name": "stdout",
     "output_type": "stream",
     "text": [
      "c1,mu1,sigma1=  [ 36.8803482   -4.90139727 -27.27982597]\n"
     ]
    }
   ],
   "source": [
    "from scipy.optimize import leastsq\n",
    "import matplotlib.mlab\n",
    "import numpy as np\n",
    "from pylab import *\n",
    "\n",
    "fig = plt.figure()\n",
    "#ax = fig.gca(projection='2d')\n",
    "n,bins,patches=plt.hist(value, bins=50, histtype='stepfilled',align='mid') #define range\n",
    "#plt.show()\n",
    "#print 'n,bins,patches= ',n,bins,patches\n",
    "n_bins=[0]*(len(bins)-1)\n",
    "for i in range(0,len(bins)-1):\n",
    "    n_bins[i]=(bins[i]+bins[i+1])/2.\n",
    "    \n",
    "mean = sum(n)/len(n)      \n",
    "su=0\n",
    "for i in range(0,len(n)):\n",
    "    su=su+ n[i]*((n_bins[i]-mean)**2)/len(n)      #sigma=sqrt(sum[(x_i-mean)^2]/N)\n",
    "sigma = np.sqrt(su)\n",
    "#print sigma  \n",
    "x=n_bins\n",
    "y=n\n",
    "y_proc = np.copy(y)\n",
    "\n",
    "def gaussian(parms,x):\n",
    "    c1, mu1, sigma1=parms\n",
    "    res = c1 * np.exp( - (x - mu1)**2.0 / (2.0 * pow(sigma1,2.0))) \n",
    "    return res\n",
    "\n",
    "def gaussian_fit(parms,x):\n",
    "    c1, mu1, sigma1=parms\n",
    "    fit = c1 * np.exp( - (x - mu1)**2.0 / (2.0 * pow(sigma1,2.0))) \n",
    "    return (fit - y_proc)\n",
    "\n",
    "# Least squares fit. Starting values found by inspection.\n",
    "fit = leastsq( gaussian_fit,[3,100,40],args=(x) )\n",
    "#plot( x, y, c='b' )\n",
    "aa,bb,cc=fit[0]\n",
    "print 'c1,mu1,sigma1= ',fit[0]\n",
    "# #plot( x, double_gaussian( x, fit[0] ), c='r' )\n",
    "plot( x, gaussian([aa,bb,cc],x), c='r' )\n",
    "\n",
    "plt.show()\n"
   ]
  },
  {
   "cell_type": "code",
   "execution_count": 24,
   "metadata": {
    "collapsed": false
   },
   "outputs": [
    {
     "name": "stdout",
     "output_type": "stream",
     "text": [
      "percent=  3.48926011062 %\n",
      "delta,flux,sky=  437.189800753 12529.584694 178605.337189\n"
     ]
    }
   ],
   "source": [
    "from math import sqrt\n",
    "time=46260.\n",
    "# area=28\n",
    "# flux= (0.082689867-area*(0.16716444/81.))*time\n",
    "# error= pow(24.23012002,2)*area\n",
    "# #error=0.071118757*time\n",
    "#   #sigma of gaussian fitting on data \n",
    "\n",
    "# delta=sqrt(flux+error)\n",
    "# print 'error,flux= ',error,flux\n",
    "# print delta,flux,delta/flux*100,'%'\n",
    "# print '1/kaifan2= ',1/sqrt(2)*100,'%'\n",
    "\n",
    "\n",
    "# error=0.1848794/82.*time\n",
    "# area=28\n",
    "# flux=(0.062118*time-(error*28))\n",
    "# print flux,error*sqrt(area)\n",
    "\n",
    "# print sqrt(28)*24\n",
    "# print sqrt(46+pow(127,2))\n",
    "\n",
    "\n",
    "area=     #area of total flux in centre\n",
    "error=-0.078980355/757.*time*area\n",
    "flux=0.24581137*time-error\n",
    "\n",
    "gauss=pow(27.27982597*sqrt(area),2)\n",
    "delta=sqrt(flux+gauss)\n",
    "print 'percent= ',delta/flux*100,'%'\n",
    "\n",
    "print 'delta,flux,sky= ',delta,flux,gauss\n"
   ]
  },
  {
   "cell_type": "code",
   "execution_count": 32,
   "metadata": {
    "collapsed": false
   },
   "outputs": [
    {
     "name": "stdout",
     "output_type": "stream",
     "text": [
      "percent=  1.14583645665 %\n",
      "delta,flux=  134.590068452 11746.0103203\n"
     ]
    }
   ],
   "source": [
    "from math import sqrt\n",
    "time=46260.\n",
    "\n",
    "area= 125.    #area of total flux in centre\n",
    "error=0.05925/384.*time*area\n",
    "flux=0.2732*time-error\n",
    "\n",
    "gauss=pow(error/sqrt(area),2)\n",
    "delta=sqrt(flux+gauss)\n",
    "print 'percent= ',delta/flux*100,'%'\n",
    "\n",
    "print 'delta,flux= ',delta,flux"
   ]
  }
 ],
 "metadata": {
  "kernelspec": {
   "display_name": "Python 2",
   "language": "python",
   "name": "python2"
  },
  "language_info": {
   "codemirror_mode": {
    "name": "ipython",
    "version": 2
   },
   "file_extension": ".py",
   "mimetype": "text/x-python",
   "name": "python",
   "nbconvert_exporter": "python",
   "pygments_lexer": "ipython2",
   "version": "2.7.10"
  }
 },
 "nbformat": 4,
 "nbformat_minor": 0
}
