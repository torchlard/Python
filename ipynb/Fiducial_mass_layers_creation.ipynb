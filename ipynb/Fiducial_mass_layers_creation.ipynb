{
 "cells": [
  {
   "cell_type": "code",
   "execution_count": 13,
   "metadata": {
    "collapsed": false
   },
   "outputs": [
    {
     "ename": "TypeError",
     "evalue": "Invalid dimensions for image data",
     "output_type": "error",
     "traceback": [
      "\u001b[1;31m---------------------------------------------------------------------------\u001b[0m",
      "\u001b[1;31mTypeError\u001b[0m                                 Traceback (most recent call last)",
      "\u001b[1;32m<ipython-input-13-f649fb141f5b>\u001b[0m in \u001b[0;36m<module>\u001b[1;34m()\u001b[0m\n\u001b[0;32m     95\u001b[0m \u001b[0mf\u001b[0m\u001b[1;33m.\u001b[0m\u001b[0mclose\u001b[0m\u001b[1;33m(\u001b[0m\u001b[1;33m)\u001b[0m\u001b[1;33m\u001b[0m\u001b[0m\n\u001b[0;32m     96\u001b[0m \u001b[1;33m\u001b[0m\u001b[0m\n\u001b[1;32m---> 97\u001b[1;33m \u001b[0mplt\u001b[0m\u001b[1;33m.\u001b[0m\u001b[0mimshow\u001b[0m\u001b[1;33m(\u001b[0m\u001b[0mfinal_1400\u001b[0m\u001b[1;33m)\u001b[0m\u001b[1;33m\u001b[0m\u001b[0m\n\u001b[0m\u001b[0;32m     98\u001b[0m \u001b[0mplt\u001b[0m\u001b[1;33m.\u001b[0m\u001b[0mshow\u001b[0m\u001b[1;33m(\u001b[0m\u001b[1;33m)\u001b[0m\u001b[1;33m\u001b[0m\u001b[0m\n\u001b[0;32m     99\u001b[0m \u001b[1;33m\u001b[0m\u001b[0m\n",
      "\u001b[1;32m/usr/lib/python2.7/dist-packages/matplotlib/pyplot.pyc\u001b[0m in \u001b[0;36mimshow\u001b[1;34m(X, cmap, norm, aspect, interpolation, alpha, vmin, vmax, origin, extent, shape, filternorm, filterrad, imlim, resample, url, hold, **kwargs)\u001b[0m\n\u001b[0;32m   2959\u001b[0m                         \u001b[0mvmax\u001b[0m\u001b[1;33m=\u001b[0m\u001b[0mvmax\u001b[0m\u001b[1;33m,\u001b[0m \u001b[0morigin\u001b[0m\u001b[1;33m=\u001b[0m\u001b[0morigin\u001b[0m\u001b[1;33m,\u001b[0m \u001b[0mextent\u001b[0m\u001b[1;33m=\u001b[0m\u001b[0mextent\u001b[0m\u001b[1;33m,\u001b[0m \u001b[0mshape\u001b[0m\u001b[1;33m=\u001b[0m\u001b[0mshape\u001b[0m\u001b[1;33m,\u001b[0m\u001b[1;33m\u001b[0m\u001b[0m\n\u001b[0;32m   2960\u001b[0m                         \u001b[0mfilternorm\u001b[0m\u001b[1;33m=\u001b[0m\u001b[0mfilternorm\u001b[0m\u001b[1;33m,\u001b[0m \u001b[0mfilterrad\u001b[0m\u001b[1;33m=\u001b[0m\u001b[0mfilterrad\u001b[0m\u001b[1;33m,\u001b[0m\u001b[1;33m\u001b[0m\u001b[0m\n\u001b[1;32m-> 2961\u001b[1;33m                         imlim=imlim, resample=resample, url=url, **kwargs)\n\u001b[0m\u001b[0;32m   2962\u001b[0m         \u001b[0mdraw_if_interactive\u001b[0m\u001b[1;33m(\u001b[0m\u001b[1;33m)\u001b[0m\u001b[1;33m\u001b[0m\u001b[0m\n\u001b[0;32m   2963\u001b[0m     \u001b[1;32mfinally\u001b[0m\u001b[1;33m:\u001b[0m\u001b[1;33m\u001b[0m\u001b[0m\n",
      "\u001b[1;32m/usr/lib/python2.7/dist-packages/matplotlib/axes/_axes.pyc\u001b[0m in \u001b[0;36mimshow\u001b[1;34m(self, X, cmap, norm, aspect, interpolation, alpha, vmin, vmax, origin, extent, shape, filternorm, filterrad, imlim, resample, url, **kwargs)\u001b[0m\n\u001b[0;32m   4643\u001b[0m                        filterrad=filterrad, resample=resample, **kwargs)\n\u001b[0;32m   4644\u001b[0m \u001b[1;33m\u001b[0m\u001b[0m\n\u001b[1;32m-> 4645\u001b[1;33m         \u001b[0mim\u001b[0m\u001b[1;33m.\u001b[0m\u001b[0mset_data\u001b[0m\u001b[1;33m(\u001b[0m\u001b[0mX\u001b[0m\u001b[1;33m)\u001b[0m\u001b[1;33m\u001b[0m\u001b[0m\n\u001b[0m\u001b[0;32m   4646\u001b[0m         \u001b[0mim\u001b[0m\u001b[1;33m.\u001b[0m\u001b[0mset_alpha\u001b[0m\u001b[1;33m(\u001b[0m\u001b[0malpha\u001b[0m\u001b[1;33m)\u001b[0m\u001b[1;33m\u001b[0m\u001b[0m\n\u001b[0;32m   4647\u001b[0m         \u001b[1;32mif\u001b[0m \u001b[0mim\u001b[0m\u001b[1;33m.\u001b[0m\u001b[0mget_clip_path\u001b[0m\u001b[1;33m(\u001b[0m\u001b[1;33m)\u001b[0m \u001b[1;32mis\u001b[0m \u001b[0mNone\u001b[0m\u001b[1;33m:\u001b[0m\u001b[1;33m\u001b[0m\u001b[0m\n",
      "\u001b[1;32m/usr/lib/python2.7/dist-packages/matplotlib/image.pyc\u001b[0m in \u001b[0;36mset_data\u001b[1;34m(self, A)\u001b[0m\n\u001b[0;32m    436\u001b[0m         if (self._A.ndim not in (2, 3) or\n\u001b[0;32m    437\u001b[0m             (self._A.ndim == 3 and self._A.shape[-1] not in (3, 4))):\n\u001b[1;32m--> 438\u001b[1;33m             \u001b[1;32mraise\u001b[0m \u001b[0mTypeError\u001b[0m\u001b[1;33m(\u001b[0m\u001b[1;34m\"Invalid dimensions for image data\"\u001b[0m\u001b[1;33m)\u001b[0m\u001b[1;33m\u001b[0m\u001b[0m\n\u001b[0m\u001b[0;32m    439\u001b[0m \u001b[1;33m\u001b[0m\u001b[0m\n\u001b[0;32m    440\u001b[0m         \u001b[0mself\u001b[0m\u001b[1;33m.\u001b[0m\u001b[0m_imcache\u001b[0m \u001b[1;33m=\u001b[0m \u001b[0mNone\u001b[0m\u001b[1;33m\u001b[0m\u001b[0m\n",
      "\u001b[1;31mTypeError\u001b[0m: Invalid dimensions for image data"
     ]
    }
   ],
   "source": [
    "from __future__ import division\n",
    "import pyfits\n",
    "import numpy as np\n",
    "from matplotlib import pyplot as plt\n",
    "import pyregion\n",
    "\n",
    "def rebin(a, shape):\n",
    "    sh = shape[0],a.shape[0]//shape[0],shape[1],a.shape[1]//shape[1]\n",
    "    return a.reshape(sh).mean(-1).mean(1)\n",
    "# def reflag(a):\n",
    "#     c=[]\n",
    "#     for i in range(0,a.shape[0],4):\n",
    "#         for j in range(0,a.shape[1],4):\n",
    "#             b=np.bincount(np.asarray(a[i:i+4,j:j+4]).astype(int).flatten())\n",
    "#             if len(b)>1: \n",
    "#                 c.append(np.argmax(b[1:])+1)\n",
    "#             else:\n",
    "#                 c.append(np.argmax(b))\n",
    "#     return np.asarray(c).reshape((a.shape[0]//4,a.shape[1]//4))\n",
    "# def fill(x):\n",
    "#     new=np.zeros((1400,1400))\n",
    "#     for i in range(1400):\n",
    "#         for j in range(1400):\n",
    "#             if (x[i])[j]==0:\n",
    "#                 new[i,j]=1\n",
    "#             else:\n",
    "#                 new[i,j]=(x[i])[j]\n",
    "#     return new\n",
    "\n",
    "\n",
    "\n",
    "final_5600=np.zeros((10,5600,5600))\n",
    "    \n",
    "strarr=['2530,2371','2732,3611','2761,3405','2794,2048']  #lower_bcg,upper_bcg,one below lcg,below_arc\n",
    "region=np.asarray([[2345,2699,2211,2571],[2512,2957,3402,3842],[2677,2845,3339,3484],[2753,2835,2009,2085]])\n",
    "flag=[2,3,1,4]\n",
    "\n",
    "########### galfit assignment ############\n",
    "\n",
    "for i in range(4):\n",
    "    f=pyfits.open('/home/lkit/Softwares/galfit3.0.5/work/'+strarr[i]+'/ds9.fits')\n",
    "    im=f[0].data\n",
    "    f.close()\n",
    "    final_5600[flag[i]-1,region[i,2]:region[i,3]+1,region[i,0]:region[i,1]+1]=im[:,:]/(10**5)\n",
    "\n",
    "f=pyfits.open('/home/lkit/Data/Jan_data/30mas_v0.5_f160w.fits')\n",
    "im=np.asarray(f[0].data)\n",
    "f.close()    \n",
    "\n",
    "######## normal regions #########\n",
    "\n",
    "fnum=[1,5,6,7,8,9,10]\n",
    "\n",
    "for num in fnum:\n",
    "    region='/home/lkit/wslap/data/A370/fiducial/fiducial_mass_region'+str(num)\n",
    "    r=pyregion.open(region)\n",
    "    mask=r.get_mask(shape=(5600,5600))\n",
    "    for i in range(5600):\n",
    "        for j in range(5600):\n",
    "            if (mask[i])[j]:\n",
    "                final_5600[num-1,i,j]=im[i,j]/(10**5)\n",
    "\n",
    "                \n",
    "# f=open('/home/lkit/wslap/data/A370/fiducial/fiducial_mass_region'+str(num))\n",
    "# region=[map(int,line.split()) for line in f]\n",
    "# f.close()\n",
    "# for i in region:\n",
    "#     y1=i[2]; y2=i[3]; x1=i[0]; x2=i[1]\n",
    "#     final_5600[num-1,y1:y2,x1:x2]=im[y1:y2,x1:x2]/(10**5)\n",
    "                \n",
    "# region_name3 = '/home/lkit/wslap/data/A370/fiducial/fiducial_mass_region3.reg'\n",
    "# region_name4 = '/home/lkit/wslap/data/A370/fiducial/fiducial_mass_region4.reg'\n",
    "# r3=pyregion.open(region_name3)\n",
    "# r4=pyregion.open(region_name4)\n",
    "# mask3= r3.get_mask(shape=(5600,5600))\n",
    "# mask4= r4.get_mask(shape=(5600,5600))\n",
    "\n",
    "# for i in range(5600):\n",
    "#     for j in range(5600):\n",
    "#         if (mask3[i])[j]:\n",
    "#             final_5600[2,i,j]=im[i,j]/(10**5)\n",
    "#         if (mask4[i])[j]:\n",
    "#             final_5600[3,i,j]=im[i,j]/(10**5)\n",
    "\n",
    "final_1400=[0]*10\n",
    "for i in range(10):\n",
    "    final_1400[i]=rebin(final_5600[i],(1400,1400))\n",
    "final_1400=np.asarray(final_1400)\n",
    "\n",
    "f=open('/home/lkit/wslap/data/A370/fiducial/mass_map_A370.dat','w')\n",
    "for k in range(10):\n",
    "    for i in range(1400):\n",
    "        for j in range(1400):\n",
    "            f.write('\\t\\t%d\\t\\t%d\\t\\t%.15f\\t\\t%d\\n' %(i+1,j+1,final_1400[k,j,i],k+1))\n",
    "f.close()\n",
    "\n",
    "# plt.imshow(final_1400[0])\n",
    "# plt.show()\n",
    "\n",
    "print 'done'\n"
   ]
  },
  {
   "cell_type": "code",
   "execution_count": 22,
   "metadata": {
    "collapsed": false
   },
   "outputs": [],
   "source": [
    "for i in range(10):\n",
    "    plt.imshow(final_1400[i])\n",
    "    plt.show()\n",
    "\n"
   ]
  },
  {
   "cell_type": "code",
   "execution_count": 293,
   "metadata": {
    "collapsed": false
   },
   "outputs": [],
   "source": [
    "import pyregion\n",
    "region_name3 = '/home/lkit/wslap/data/A370/fiducial/fiducial_mass_region3.reg'\n",
    "region_name4 = '/home/lkit/wslap/data/A370/fiducial/fiducial_mass_region4.reg'\n",
    "r3=pyregion.open(region_name3)\n",
    "r4=pyregion.open(region_name4)\n",
    "mask3= r3.get_mask(shape=(5600,5600))\n",
    "mask4= r4.get_mask(shape=(5600,5600))\n",
    "\n",
    "test=np.ones((5600,5600))\n",
    "final=np.zeros((5600,5600))\n",
    "for i in range(5600):\n",
    "    for j in range(5600):\n",
    "        if (mask3[i])[j]:\n",
    "            final[i,j]=final[i,j]+test[i,j]\n",
    "        if (mask4[i])[j]:\n",
    "            final[i,j]=final[i,j]+test[i,j]\n",
    "\n",
    "plt.imshow(final)\n",
    "plt.show()\n"
   ]
  },
  {
   "cell_type": "code",
   "execution_count": 4,
   "metadata": {
    "collapsed": false
   },
   "outputs": [
    {
     "name": "stdout",
     "output_type": "stream",
     "text": [
      "[[ 0.  0.  0.]\n",
      " [ 0.  0.  0.]\n",
      " [ 0.  0.  0.]]\n"
     ]
    },
    {
     "ename": "ValueError",
     "evalue": "could not broadcast input array from shape (2,2) into shape (3,3)",
     "output_type": "error",
     "traceback": [
      "\u001b[1;31m---------------------------------------------------------------------------\u001b[0m",
      "\u001b[1;31mValueError\u001b[0m                                Traceback (most recent call last)",
      "\u001b[1;32m<ipython-input-4-fb8b0e7b6c98>\u001b[0m in \u001b[0;36m<module>\u001b[1;34m()\u001b[0m\n\u001b[0;32m      3\u001b[0m \u001b[0mb\u001b[0m\u001b[1;33m=\u001b[0m\u001b[0mnp\u001b[0m\u001b[1;33m.\u001b[0m\u001b[0mzeros\u001b[0m\u001b[1;33m(\u001b[0m\u001b[1;33m(\u001b[0m\u001b[1;36m3\u001b[0m\u001b[1;33m,\u001b[0m\u001b[1;36m3\u001b[0m\u001b[1;33m)\u001b[0m\u001b[1;33m)\u001b[0m\u001b[1;33m\u001b[0m\u001b[0m\n\u001b[0;32m      4\u001b[0m \u001b[1;32mprint\u001b[0m \u001b[0mb\u001b[0m\u001b[1;33m\u001b[0m\u001b[0m\n\u001b[1;32m----> 5\u001b[1;33m \u001b[0mb\u001b[0m\u001b[1;33m[\u001b[0m\u001b[1;36m0\u001b[0m\u001b[1;33m:\u001b[0m\u001b[1;36m3\u001b[0m\u001b[1;33m,\u001b[0m\u001b[1;36m0\u001b[0m\u001b[1;33m:\u001b[0m\u001b[1;36m3\u001b[0m\u001b[1;33m]\u001b[0m\u001b[1;33m=\u001b[0m\u001b[0ma\u001b[0m\u001b[1;33m[\u001b[0m\u001b[1;33m:\u001b[0m\u001b[1;33m,\u001b[0m\u001b[1;33m:\u001b[0m\u001b[1;33m]\u001b[0m\u001b[1;33m\u001b[0m\u001b[0m\n\u001b[0m\u001b[0;32m      6\u001b[0m \u001b[1;32mprint\u001b[0m \u001b[0mb\u001b[0m\u001b[1;33m\u001b[0m\u001b[0m\n",
      "\u001b[1;31mValueError\u001b[0m: could not broadcast input array from shape (2,2) into shape (3,3)"
     ]
    }
   ],
   "source": [
    "import numpy as np\n",
    "a=np.asarray([[1,2],[3,4]])\n",
    "b=np.zeros((3,3))\n",
    "print b\n",
    "b[0:3,0:3]=a[:,:]\n",
    "print b"
   ]
  }
 ],
 "metadata": {
  "kernelspec": {
   "display_name": "Python 2",
   "language": "python",
   "name": "python2"
  },
  "language_info": {
   "codemirror_mode": {
    "name": "ipython",
    "version": 2
   },
   "file_extension": ".py",
   "mimetype": "text/x-python",
   "name": "python",
   "nbconvert_exporter": "python",
   "pygments_lexer": "ipython2",
   "version": "2.7.10"
  }
 },
 "nbformat": 4,
 "nbformat_minor": 0
}
