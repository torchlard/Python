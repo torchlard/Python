{
 "cells": [
  {
   "cell_type": "code",
   "execution_count": 36,
   "metadata": {
    "collapsed": true
   },
   "outputs": [],
   "source": [
    "# Inputs\n",
    "alpha_x_path = '/Volumes/BRIAN/Research/WSLAP_works/data/M0647/ver22/reconstruction/recomp_alpha_x_rad_ver22_full.fits'   # type full path\n",
    "alpha_y_path = '/Volumes/BRIAN/Research/WSLAP_works/data/M0647/ver22/reconstruction/recomp_alpha_y_rad_ver22_full.fits'\n",
    "alpha_size = 2048   # linear size input deflection field\n",
    "pix_scale = 0.065   # arcseconds per pixel\n",
    "lens_z = 0.584   # lens redshift\n",
    "fid_z = 3.0   # fiducial source redshift of input deflection field\n",
    "src_z = 5.9   # desired source redshift\n",
    "output_path = '/Volumes/BRIAN/Research/WSLAP_works/data/M0647/ver22/reconstruction/critcurve_map_ver22_z5.9_full.fits'   # type output path"
   ]
  },
  {
   "cell_type": "code",
   "execution_count": 37,
   "metadata": {
    "collapsed": false
   },
   "outputs": [],
   "source": [
    "import numpy as np\n",
    "import math\n",
    "import pyfits\n",
    "import itertools\n",
    "from multiprocessing import Pool\n",
    "\n",
    "from astropy.cosmology import FlatLambdaCDM\n",
    "cosmo = FlatLambdaCDM(H0=70., Om0=0.3)\n",
    "from astropy import constants as const"
   ]
  },
  {
   "cell_type": "code",
   "execution_count": 38,
   "metadata": {
    "collapsed": false
   },
   "outputs": [],
   "source": [
    "def Mag_func(daxdx, daxdy, daydx, daydy):\n",
    "    mu = abs(1. / ((1. - daxdx) * (1. - daydy) - daxdy * daydx))\n",
    "    return mu\n",
    "    \n",
    "def Mag_func_star(arguments):\n",
    "    # Convert mag_func([daxdx, daxdy, daydx, daydy]) to mag_func(daxdx, daxdy, daydx, daydy) call\n",
    "    return Mag_func(*arguments)\n",
    "\n",
    "def Mag(z_src, alpha_x, alpha_y, z_lens=lens_z, z_fid=fid_z):\n",
    "    # compute the lensing distance ratio\n",
    "    d_ls1 = cosmo.angular_diameter_distance_z1z2(z_lens, z_src)\n",
    "    d_s1 = cosmo.angular_diameter_distance(z_src)\n",
    "    d_ls2 = cosmo.angular_diameter_distance_z1z2(z_lens, z_fid)\n",
    "    d_s2 = cosmo.angular_diameter_distance(z_fid)\n",
    "    D = (d_ls1 / d_s1) / (d_ls2 / d_s2)\n",
    "    \n",
    "    # compute the partial derivatives of alpha_x and alpha_y\n",
    "    daxdy, daxdx = D * np.gradient(alpha_x)\n",
    "    daydy, daydx = D * np.gradient(alpha_y)\n",
    "    daxdx = np.reshape(daxdx, (1, np.size(daxdx)))\n",
    "    daxdy = np.reshape(daxdy, (1, np.size(daxdy)))\n",
    "    daydx = np.reshape(daydx, (1, np.size(daydx)))\n",
    "    daydy = np.reshape(daydy, (1, np.size(daydy)))\n",
    "    \n",
    "    pool = Pool()\n",
    "    mu = pool.map(Mag_func_star, itertools.izip(daxdx, daxdy, daydx, daydy))[0]\n",
    "    mu = [i.value for i in mu]\n",
    "    mu = np.reshape(mu, (alpha_size, alpha_size))\n",
    "    pool.close()\n",
    "    pool.join()\n",
    "    \n",
    "    return mu"
   ]
  },
  {
   "cell_type": "code",
   "execution_count": 39,
   "metadata": {
    "collapsed": false
   },
   "outputs": [],
   "source": [
    "im = pyfits.open(alpha_x_path)\n",
    "alpha_x = im[0].data / math.pi * 180. * 3600. / pix_scale\n",
    "im.close()\n",
    "\n",
    "im = pyfits.open(alpha_y_path)\n",
    "alpha_y = im[0].data / math.pi * 180. * 3600. / pix_scale\n",
    "im.close()"
   ]
  },
  {
   "cell_type": "code",
   "execution_count": 40,
   "metadata": {
    "collapsed": false
   },
   "outputs": [
    {
     "name": "stdout",
     "output_type": "stream",
     "text": [
      "Complete!\n"
     ]
    }
   ],
   "source": [
    "mu = Mag(src_z, alpha_x, alpha_y)\n",
    "\n",
    "hdu1 = pyfits.PrimaryHDU(mu)\n",
    "hdu1.writeto(output_path)\n",
    "\n",
    "print('Complete!')"
   ]
  },
  {
   "cell_type": "code",
   "execution_count": null,
   "metadata": {
    "collapsed": true
   },
   "outputs": [],
   "source": []
  }
 ],
 "metadata": {
  "kernelspec": {
   "display_name": "Python 2",
   "language": "python",
   "name": "python2"
  },
  "language_info": {
   "codemirror_mode": {
    "name": "ipython",
    "version": 2
   },
   "file_extension": ".py",
   "mimetype": "text/x-python",
   "name": "python",
   "nbconvert_exporter": "python",
   "pygments_lexer": "ipython2",
   "version": "2.7.10"
  }
 },
 "nbformat": 4,
 "nbformat_minor": 0
}
