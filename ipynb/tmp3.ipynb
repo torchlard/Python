{
 "cells": [
  {
   "cell_type": "code",
   "execution_count": 133,
   "metadata": {
    "collapsed": false
   },
   "outputs": [
    {
     "name": "stdout",
     "output_type": "stream",
     "text": [
      "[[1.1, 27717.301645357802, 28657.134502922399]\n",
      " [1.2, 67766.772502528096, 68350.865694200198, 68495.52930909241, 68431.938105072593]\n",
      " [1.3, 61411.559069795301, 62092.035819469995, 62457.898936195699]\n",
      " [4.1, 39042.542832922001, 39537.566722478005, 39749.075762799999, 39834.405609530004]\n",
      " [4.2, 44708.143351052, 45159.681065668003, 45260.465189404]\n",
      " [4.3, 35747.523105312001, 35867.194142672, 35920.219435776002]\n",
      " [6.1, 2442.2866380479027, 2914.0927012477987, 3207.5032456517001, 3370.1046814528963]\n",
      " [6.2, 2045.6822429387976, 4012.6658976371982, 3949.0258303411974]\n",
      " [6.3, 3401.6258257738009, 3545.8972534001005, 3047.0449488261002]\n",
      " [9.1, 4551.1960784286002, 4604.9646017657997, 4595.3373493954005]\n",
      " [9.2, 3414.48101266, 3501.6934306600001, 3527.7647058799998]\n",
      " [9.3, 4660.0243902359998, 4689.0, 4678.4462540616005]]\n"
     ]
    }
   ],
   "source": [
    "import numpy as np\n",
    "import re\n",
    "\n",
    "l=\"\"\n",
    "f=file(\"/home/lkit/Photometry/RGB.dat\")\n",
    "for line in f:\n",
    "    l=l+line\n",
    "raw=(re.split('\\n\\n', l))\n",
    "\n",
    "flux= np.asarray([map(float,re.split('\\t',line)) for line in re.split('\\n',raw[0])])\n",
    "noise=np.asarray([map(float,line.split()) for line in raw[1:]])\n",
    "\n",
    "n=len(flux)\n",
    "result=(np.array([1.1,1.2,1.3,4.1,4.2,4.3,6.1,6.2,6.3,9.1,9.2,9.3])[:, np.newaxis]).tolist()\n",
    "\n",
    "for i in range(n):\n",
    "    for j in noise[i]:\n",
    "        (result[i]).append(flux[i,0]-flux[i,1]*j)\n",
    "        \n",
    "print np.array(result)"
   ]
  },
  {
   "cell_type": "code",
   "execution_count": 328,
   "metadata": {
    "collapsed": false
   },
   "outputs": [
    {
     "ename": "SyntaxError",
     "evalue": "invalid syntax (<ipython-input-328-ab9ecda7a9f5>, line 26)",
     "output_type": "error",
     "traceback": [
      "\u001b[1;36m  File \u001b[1;32m\"<ipython-input-328-ab9ecda7a9f5>\"\u001b[1;36m, line \u001b[1;32m26\u001b[0m\n\u001b[1;33m    print index\u001b[0m\n\u001b[1;37m              ^\u001b[0m\n\u001b[1;31mSyntaxError\u001b[0m\u001b[1;31m:\u001b[0m invalid syntax\n"
     ]
    }
   ],
   "source": [
    "from __future__ import division\n",
    "\n",
    "l=\"\"\n",
    "f=file(\"/home/lkit/Photometry/F105W.dat\")\n",
    "for line in f:\n",
    "    l=l+line\n",
    "raw=re.split('\\n\\t\\n',l)\n",
    "\n",
    "data=np.asarray([map(str,re.split('\\n',line)) for line in raw])  #1st dimension\n",
    "dat2=[]\n",
    "for i in range(len(data)):\n",
    "    data1=[map(str,re.split('\\t',line)) for line in data[i]]  #2nd dimension\n",
    "    dat2.append(data1)\n",
    "\n",
    "result=np.asarray([[[float(z) for z in y if z!=\"\"] for y in x] for x in dat2] )\n",
    "print(result)\n",
    "# print '==============='\n",
    "# print ((result[1])[1])[:]\n",
    "n=len(result)\n",
    "noise_array=[[] for i in range(n)]\n",
    "flux_array=[[] for i in range(n)]\n",
    "\n",
    "for i in range(n):\n",
    "    for j in (result[i])[2:]:\n",
    "        index=(result[i])[0]\n",
    "        print index\n",
    "        f0=((result[i])[1])[0]\n",
    "        a0=((result[i])[1])[1]\n",
    "        noise=(j[0]-f0)/(j[1]-a0)\n",
    "        flux=f0-(a0*noise)\n",
    "        flux_array[i].append(flux)\n",
    "        noise_array[i].append(noise)\n",
    "        \n",
    "#print(flux_array)\n",
    "#print(noise_array)\n",
    "        "
   ]
  },
  {
   "cell_type": "code",
   "execution_count": 316,
   "metadata": {
    "collapsed": false
   },
   "outputs": [
    {
     "ename": "TypeError",
     "evalue": "argument 2 to map() must support iteration",
     "output_type": "error",
     "traceback": [
      "\u001b[1;31m---------------------------------------------------------------------------\u001b[0m",
      "\u001b[1;31mTypeError\u001b[0m                                 Traceback (most recent call last)",
      "\u001b[1;32m<ipython-input-316-48cab35f5c19>\u001b[0m in \u001b[0;36m<module>\u001b[1;34m()\u001b[0m\n\u001b[1;32m----> 1\u001b[1;33m \u001b[0msquares\u001b[0m \u001b[1;33m=\u001b[0m \u001b[1;33m[\u001b[0m\u001b[0mmap\u001b[0m\u001b[1;33m(\u001b[0m\u001b[1;32mlambda\u001b[0m \u001b[0mx\u001b[0m\u001b[1;33m:\u001b[0m \u001b[0mx\u001b[0m\u001b[1;33m**\u001b[0m\u001b[1;36m2\u001b[0m\u001b[1;33m,\u001b[0m\u001b[0mjj\u001b[0m\u001b[1;33m)\u001b[0m \u001b[1;32mfor\u001b[0m \u001b[0mjj\u001b[0m \u001b[1;32min\u001b[0m \u001b[0mrange\u001b[0m\u001b[1;33m(\u001b[0m\u001b[1;36m10\u001b[0m\u001b[1;33m)\u001b[0m\u001b[1;33m]\u001b[0m\u001b[1;33m\u001b[0m\u001b[0m\n\u001b[0m\u001b[0;32m      2\u001b[0m \u001b[0mn\u001b[0m\u001b[1;33m=\u001b[0m\u001b[0msquares\u001b[0m\u001b[1;33m\u001b[0m\u001b[0m\n\u001b[0;32m      3\u001b[0m \u001b[1;33m\u001b[0m\u001b[0m\n\u001b[0;32m      4\u001b[0m \u001b[1;32mprint\u001b[0m \u001b[1;33m(\u001b[0m\u001b[0mn\u001b[0m\u001b[1;33m)\u001b[0m\u001b[1;33m\u001b[0m\u001b[0m\n",
      "\u001b[1;31mTypeError\u001b[0m: argument 2 to map() must support iteration"
     ]
    }
   ],
   "source": [
    "squares = [map(lambda x: x**2,jj) for jj in range(10)]\n",
    "n=squares\n",
    "\n",
    "print (n)"
   ]
  }
 ],
 "metadata": {
  "kernelspec": {
   "display_name": "Python 2",
   "language": "python",
   "name": "python2"
  },
  "language_info": {
   "codemirror_mode": {
    "name": "ipython",
    "version": 2
   },
   "file_extension": ".py",
   "mimetype": "text/x-python",
   "name": "python",
   "nbconvert_exporter": "python",
   "pygments_lexer": "ipython2",
   "version": "2.7.10"
  }
 },
 "nbformat": 4,
 "nbformat_minor": 0
}
