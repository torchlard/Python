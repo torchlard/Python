{
 "cells": [
  {
   "cell_type": "code",
   "execution_count": 16,
   "metadata": {
    "collapsed": false
   },
   "outputs": [],
   "source": [
    "import pyfits\n",
    "import numpy as np\n",
    "\n"
   ]
  },
  {
   "cell_type": "code",
   "execution_count": 52,
   "metadata": {
    "collapsed": false
   },
   "outputs": [
    {
     "name": "stdout",
     "output_type": "stream",
     "text": [
      "done\n"
     ]
    }
   ],
   "source": [
    "f=open(\"/home/lkit/wslap/data/A370/fiducial/mass_map_A370.dat\")\n",
    "data=np.asarray([map(float,line.split()) for line in f])\n",
    "f.close()\n",
    "\n",
    "# tmp=[]\n",
    "# for i in data:\n",
    "#     if i[2]<0:\n",
    "#         tmp.append(i[2])\n",
    "\n",
    "# print len(tmp)\n",
    "\n",
    "\n",
    "f=open(\"/home/lkit/mass_map.dat\",'w')\n",
    "for i in range(1400*1400*3):\n",
    "    if data[i,2]>=0:\n",
    "        f.write(\"\\t\\t%d\\t\\t%d\\t\\t%.8f\\t\\t%d\\n\" %(int(data[i,0]),int(data[i,1]),data[i,2],int(data[i,3])))\n",
    "    else:\n",
    "        f.write(\"\\t\\t%d\\t\\t%d\\t\\t%.8f\\t\\t%d\\n\" %(int(data[i,0]),int(data[i,1]),0.0,int(data[i,3])))\n",
    "\n",
    "f.close()    \n",
    "print 'done'"
   ]
  },
  {
   "cell_type": "code",
   "execution_count": 51,
   "metadata": {
    "collapsed": false
   },
   "outputs": [
    {
     "name": "stdout",
     "output_type": "stream",
     "text": [
      "3\n"
     ]
    }
   ],
   "source": [
    "print abs(-3)"
   ]
  },
  {
   "cell_type": "code",
   "execution_count": 45,
   "metadata": {
    "collapsed": false
   },
   "outputs": [],
   "source": [
    "import random\n",
    "from random import randrange as rand\n",
    "\n",
    "bang=['A101','A102','A103','A104','A105','A106','A107','A108','A109','A110']\n",
    "name1=['mary','peter','tom','john','tomas']\n",
    "name2=['amy','bob','candy','carins','daniel']\n",
    "place=['wan chai','central','mong kok','yau ma tei','jordan']\n",
    "\n",
    "f=open(\"/home/lkit/tmp/sql\",'w')\n",
    "f.write(\"create table tb (bang varchar(10), uria int,tuki int);\\n\")\n",
    "f.write(\"create table tb1 (bang varchar(10), nama varchar(10),tosi int);\\n\")\n",
    "f.write(\"create table tb2 (bang varchar(10), nama varchar(10),tosi int);\\n\")\n",
    "f.write(\"create table tb3 (bang varchar(10), Ken varchar(10));\\n\")\n",
    "\n",
    "for i in range(10):\n",
    "    f.write(\"insert into tb values('%s',%d,%d);\\n\" %(random.choice(bang[:7]),rand(30,250),rand(2,9)))\n",
    "for i in range(5):\n",
    "    f.write(\"insert into tb1 values('%s','%s',%d);\\n\" %(bang[i],name1[i],rand(20,50)))\n",
    "for i in range(5):\n",
    "    f.write(\"insert into tb2 values('%s','%s',%d);\\n\" %(bang[i+5],name2[i],rand(20,50)))\n",
    "for i in range(5):\n",
    "    f.write(\"insert into tb3 values('%s','%s');\\n\" %(bang[i],place[i]))\n",
    "f.write(\"select * from tb;\\n\")\n",
    "f.write(\"select * from tb1;\\n\")\n",
    "f.write(\"select * from tb2;\\n\")\n",
    "f.write(\"select * from tb3;\\n\")\n",
    "\n",
    "f.close()"
   ]
  },
  {
   "cell_type": "code",
   "execution_count": 47,
   "metadata": {
    "collapsed": false
   },
   "outputs": [
    {
     "name": "stdout",
     "output_type": "stream",
     "text": [
      "/home/lkit/Programming/Python/ipynb\n"
     ]
    }
   ],
   "source": [
    "import os\n",
    "\n",
    "print os.getcwd()"
   ]
  }
 ],
 "metadata": {
  "kernelspec": {
   "display_name": "Python 2",
   "language": "python",
   "name": "python2"
  },
  "language_info": {
   "codemirror_mode": {
    "name": "ipython",
    "version": 2
   },
   "file_extension": ".py",
   "mimetype": "text/x-python",
   "name": "python",
   "nbconvert_exporter": "python",
   "pygments_lexer": "ipython2",
   "version": "2.7.11+"
  }
 },
 "nbformat": 4,
 "nbformat_minor": 0
}
