{
 "cells": [
  {
   "cell_type": "code",
   "execution_count": 44,
   "metadata": {
    "collapsed": false
   },
   "outputs": [
    {
     "name": "stderr",
     "output_type": "stream",
     "text": [
      "/home/lkit/.local/lib/python2.7/site-packages/ipykernel/__main__.py:39: RuntimeWarning: invalid value encountered in divide\n",
      "/home/lkit/.local/lib/python2.7/site-packages/ipykernel/__main__.py:41: RuntimeWarning: invalid value encountered in divide\n",
      "/home/lkit/.local/lib/python2.7/site-packages/ipykernel/__main__.py:47: RuntimeWarning: invalid value encountered in divide\n",
      "/home/lkit/.local/lib/python2.7/site-packages/ipykernel/__main__.py:48: RuntimeWarning: invalid value encountered in divide\n"
     ]
    }
   ],
   "source": [
    "import numpy as np \n",
    "import matplotlib.pyplot as plt\n",
    "from mpl_toolkits.mplot3d import Axes3D\n",
    "from matplotlib import cm\n",
    "\n",
    "fig = plt.figure()\n",
    "ax = fig.add_subplot(111,projection='3d')\n",
    "\n",
    "x = np.linspace(-5,5,101)\n",
    "y = np.linspace(-5,5,101)\n",
    "X, Y = np.meshgrid(x,y)\n",
    "# position of 2 point masses\n",
    "\n",
    "zeta_a = (2,0) \n",
    "zeta_b = (-2,0) \n",
    "\n",
    "def get_dist_squared(x_array, y_array):\n",
    "    return x_array**2 + y_array**2\n",
    "\n",
    "#defining some constants\n",
    "\n",
    "M_a = 1\n",
    "M_b = 1\n",
    "G = 1\n",
    "c = 1\n",
    "\n",
    "# min corresponds to minus , I'm following the eqn for the binary point mass lens, i split zeta into x and y components\n",
    "\n",
    "zeta_min_zeta_a_x = X - zeta_a[0] \n",
    "zeta_min_zeta_a_y = Y - zeta_a[1]\n",
    "zeta_min_zeta_b_x = X - zeta_b[0]\n",
    "zeta_min_zeta_b_y = Y - zeta_b[1]\n",
    "\n",
    "dist_zeta_min_zeta_a = get_dist_squared(zeta_min_zeta_a_x,zeta_min_zeta_a_y)\n",
    "\n",
    "dist_zeta_min_zeta_b = get_dist_squared(zeta_min_zeta_b_x,zeta_min_zeta_b_y)\n",
    "\n",
    "\n",
    "alpha_x = M_a * zeta_min_zeta_a_x / dist_zeta_min_zeta_a\n",
    "\n",
    "alpha_x += M_b * zeta_min_zeta_b_x / dist_zeta_min_zeta_b\n",
    "\n",
    "# += meaning alpha_x = alpha_x + ^\n",
    "\n",
    "alpha_x *= 4 * G / (c**2) \n",
    "\n",
    "alpha_y = M_a * zeta_min_zeta_a_y / dist_zeta_min_zeta_a\n",
    "alpha_y += M_b * zeta_min_zeta_b_y / dist_zeta_min_zeta_b\n",
    "alpha_y *= 4 * G / (c**2)\n",
    "\n",
    "# now we have alpha x and y components in vector form. to obtain the magnitude, I modulus it,\n",
    "\n",
    "deflection  = np.sqrt((alpha_x)**2 + (alpha_y)**2)\n",
    "\n",
    "\n",
    "#finally to plot, \n",
    "ax.plot_surface(X,Y,deflection,rstride=1, cstride=1, cmap=cm.coolwarm)\n",
    "\n",
    "plt.show()\n"
   ]
  },
  {
   "cell_type": "code",
   "execution_count": 36,
   "metadata": {
    "collapsed": false
   },
   "outputs": [
    {
     "name": "stdout",
     "output_type": "stream",
     "text": [
      "[[-5.   -4.75 -4.5  ...,  4.25  4.5   4.75]\n",
      " [-5.   -4.75 -4.5  ...,  4.25  4.5   4.75]\n",
      " [-5.   -4.75 -4.5  ...,  4.25  4.5   4.75]\n",
      " ..., \n",
      " [-5.   -4.75 -4.5  ...,  4.25  4.5   4.75]\n",
      " [-5.   -4.75 -4.5  ...,  4.25  4.5   4.75]\n",
      " [-5.   -4.75 -4.5  ...,  4.25  4.5   4.75]]\n"
     ]
    }
   ],
   "source": [
    "import numpy as np\n",
    "X = np.arange(-5, 5, 0.25)\n",
    "Y = np.arange(-5, 5, 0.25)\n",
    "X, Y = np.meshgrid(X, Y)\n",
    "print X"
   ]
  }
 ],
 "metadata": {
  "kernelspec": {
   "display_name": "Python 2",
   "language": "python",
   "name": "python2"
  },
  "language_info": {
   "codemirror_mode": {
    "name": "ipython",
    "version": 2
   },
   "file_extension": ".py",
   "mimetype": "text/x-python",
   "name": "python",
   "nbconvert_exporter": "python",
   "pygments_lexer": "ipython2",
   "version": "2.7.11+"
  }
 },
 "nbformat": 4,
 "nbformat_minor": 0
}
