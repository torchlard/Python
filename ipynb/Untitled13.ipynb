{
 "cells": [
  {
   "cell_type": "code",
   "execution_count": 65,
   "metadata": {
    "collapsed": false
   },
   "outputs": [
    {
     "name": "stdout",
     "output_type": "stream",
     "text": [
      "ok\n"
     ]
    }
   ],
   "source": [
    "import numpy as np\n",
    "import matplotlib.pyplot as plt\n",
    "import random\n",
    "\n",
    "\n",
    "E = 0.1\n",
    "M = 5\n",
    "def ln(x):\n",
    "    return np.log(x)/np.log(np.e)\n",
    "\n",
    "def CDF_inv(x, e, m):  \n",
    "    A = 1/(1 + np.log(m/e))\n",
    "    if x == 1:\n",
    "        return m\n",
    "    elif 0 <= x <= A:\n",
    "        return e * x / A\n",
    "    elif A < x < 1:\n",
    "        return e * np.exp((x / A) - 1)\n",
    "\n",
    "\n",
    "n = 1000\n",
    "random_num = [random.random() for e in range(n)]\n",
    "random_sample = [CDF_inv(x, E, M) for x in random_num]\n",
    "stretch = [10.0, 10.0]\n",
    "\n",
    "def get_coordinates_elliptical(distribution=CDF_inv, params=[E, M],stretch=stretch):\n",
    "    R = distribution(random.random(), *params)\n",
    "    theta = random.random() * 2 * np.pi\n",
    "    return (R * np.cos(theta) * stretch[0], R * np.sin(theta) * stretch[1])\n",
    "\n",
    "zeta_list = [get_coordinates_elliptical() for e in range(n)]\n",
    "x1, y1= zip(*zeta_list)\n",
    "\n",
    "x1 = np.asarray(x1)\n",
    "y1 = np.asarray(y1)\n",
    "\n",
    "\n",
    "\n",
    "zeta_list = np.column_stack((x1,y1))\n",
    "zeta_list = np.asarray(zeta_list)\n",
    "\n"
   ]
  },
  {
   "cell_type": "code",
   "execution_count": 62,
   "metadata": {
    "collapsed": false
   },
   "outputs": [],
   "source": [
    "E = 0.1\n",
    "M = 5\n",
    "def ln(x):\n",
    "    return np.log(x)/np.log(np.e)\n",
    "\n",
    "def CDF_inv(x, e, m):   # x=random, e,m=fixed\n",
    "    A = 1/(1 + np.log(m/e))\n",
    "    if x == 1:\n",
    "        return m\n",
    "    elif 0 <= x <= A:\n",
    "        return e * x / A\n",
    "    elif A < x < 1:\n",
    "        return e * np.exp((x / A) - 1)\n",
    "    \n",
    "result=[]\n",
    "for i in np.linspace(0,1,100):\n",
    "    result.append(CDF_inv(i,0.1,5))\n",
    "\n",
    "plt.plot(result)\n",
    "plt.show()"
   ]
  },
  {
   "cell_type": "code",
   "execution_count": 66,
   "metadata": {
    "collapsed": false
   },
   "outputs": [
    {
     "name": "stdout",
     "output_type": "stream",
     "text": [
      "[[1 2]\n",
      " [2 3]\n",
      " [3 4]\n",
      " [4 5]]\n"
     ]
    }
   ],
   "source": [
    "x=[1,2,3,4]\n",
    "y=[2,3,4,5]\n",
    "print np.column_stack((x,y))"
   ]
  },
  {
   "cell_type": "code",
   "execution_count": 82,
   "metadata": {
    "collapsed": false
   },
   "outputs": [
    {
     "name": "stdout",
     "output_type": "stream",
     "text": [
      "[[-50.         -38.88888889 -27.77777778 -16.66666667  -5.55555556\n",
      "    5.55555556  16.66666667  27.77777778  38.88888889  50.        ]\n",
      " [-50.         -38.88888889 -27.77777778 -16.66666667  -5.55555556\n",
      "    5.55555556  16.66666667  27.77777778  38.88888889  50.        ]\n",
      " [-50.         -38.88888889 -27.77777778 -16.66666667  -5.55555556\n",
      "    5.55555556  16.66666667  27.77777778  38.88888889  50.        ]\n",
      " [-50.         -38.88888889 -27.77777778 -16.66666667  -5.55555556\n",
      "    5.55555556  16.66666667  27.77777778  38.88888889  50.        ]\n",
      " [-50.         -38.88888889 -27.77777778 -16.66666667  -5.55555556\n",
      "    5.55555556  16.66666667  27.77777778  38.88888889  50.        ]\n",
      " [-50.         -38.88888889 -27.77777778 -16.66666667  -5.55555556\n",
      "    5.55555556  16.66666667  27.77777778  38.88888889  50.        ]\n",
      " [-50.         -38.88888889 -27.77777778 -16.66666667  -5.55555556\n",
      "    5.55555556  16.66666667  27.77777778  38.88888889  50.        ]\n",
      " [-50.         -38.88888889 -27.77777778 -16.66666667  -5.55555556\n",
      "    5.55555556  16.66666667  27.77777778  38.88888889  50.        ]\n",
      " [-50.         -38.88888889 -27.77777778 -16.66666667  -5.55555556\n",
      "    5.55555556  16.66666667  27.77777778  38.88888889  50.        ]\n",
      " [-50.         -38.88888889 -27.77777778 -16.66666667  -5.55555556\n",
      "    5.55555556  16.66666667  27.77777778  38.88888889  50.        ]]\n",
      "[[-50.         -50.         -50.         -50.         -50.         -50.\n",
      "  -50.         -50.         -50.         -50.        ]\n",
      " [-38.88888889 -38.88888889 -38.88888889 -38.88888889 -38.88888889\n",
      "  -38.88888889 -38.88888889 -38.88888889 -38.88888889 -38.88888889]\n",
      " [-27.77777778 -27.77777778 -27.77777778 -27.77777778 -27.77777778\n",
      "  -27.77777778 -27.77777778 -27.77777778 -27.77777778 -27.77777778]\n",
      " [-16.66666667 -16.66666667 -16.66666667 -16.66666667 -16.66666667\n",
      "  -16.66666667 -16.66666667 -16.66666667 -16.66666667 -16.66666667]\n",
      " [ -5.55555556  -5.55555556  -5.55555556  -5.55555556  -5.55555556\n",
      "   -5.55555556  -5.55555556  -5.55555556  -5.55555556  -5.55555556]\n",
      " [  5.55555556   5.55555556   5.55555556   5.55555556   5.55555556\n",
      "    5.55555556   5.55555556   5.55555556   5.55555556   5.55555556]\n",
      " [ 16.66666667  16.66666667  16.66666667  16.66666667  16.66666667\n",
      "   16.66666667  16.66666667  16.66666667  16.66666667  16.66666667]\n",
      " [ 27.77777778  27.77777778  27.77777778  27.77777778  27.77777778\n",
      "   27.77777778  27.77777778  27.77777778  27.77777778  27.77777778]\n",
      " [ 38.88888889  38.88888889  38.88888889  38.88888889  38.88888889\n",
      "   38.88888889  38.88888889  38.88888889  38.88888889  38.88888889]\n",
      " [ 50.          50.          50.          50.          50.          50.\n",
      "   50.          50.          50.          50.        ]]\n"
     ]
    }
   ],
   "source": [
    "xx=[]\n",
    "x = np.linspace(-50,50,10)\n",
    "y = np.linspace(-50,50,10)\n",
    "xx.append(x)\n",
    "x1,y1 = np.meshgrid(x,y)\n",
    "print x1\n",
    "print y1\n",
    "# print xx\n",
    "# print xx[0]\n",
    "# print x\n",
    "# print x[0]"
   ]
  },
  {
   "cell_type": "code",
   "execution_count": 96,
   "metadata": {
    "collapsed": false
   },
   "outputs": [
    {
     "name": "stdout",
     "output_type": "stream",
     "text": [
      "[[ 5 40 58]\n",
      " [80 29 61]]\n",
      "[[ 10  80 116]\n",
      " [160  58 122]]\n"
     ]
    }
   ],
   "source": [
    "from __future__ import division\n",
    "\n",
    "x1=np.asarray([[1,2,3],\n",
    "               [4,5,6]])\n",
    "x2=np.asarray([[2,6,7],\n",
    "               [8,2,5]])\n",
    "\n",
    "def square(x_array,y_array):\n",
    "    return x_array**2+y_array**2\n",
    "\n",
    "print square(x1,x2)\n",
    "print square(x1,x2)*2"
   ]
  },
  {
   "cell_type": "code",
   "execution_count": 117,
   "metadata": {
    "collapsed": false
   },
   "outputs": [
    {
     "name": "stdout",
     "output_type": "stream",
     "text": [
      "[[0 1 2]\n",
      " [0 1 2]\n",
      " [0 1 2]]\n",
      "2\n"
     ]
    }
   ],
   "source": [
    "god=[]\n",
    "for i in range(3):\n",
    "    god2=[]\n",
    "    for j in range(3):\n",
    "        god2.append(j)\n",
    "    god.append(god2)\n",
    "god=np.asarray(god)\n",
    "print god\n",
    "print god[1,2]"
   ]
  },
  {
   "cell_type": "code",
   "execution_count": 135,
   "metadata": {
    "collapsed": false
   },
   "outputs": [
    {
     "name": "stdout",
     "output_type": "stream",
     "text": [
      "[[[0 0]\n",
      "  [0 0]\n",
      "  [0 0]]\n",
      "\n",
      " [[0 0]\n",
      "  [0 0]\n",
      "  [0 0]]\n",
      "\n",
      " [[0 6]\n",
      "  [0 0]\n",
      "  [0 0]]]\n"
     ]
    }
   ],
   "source": [
    "god=np.asarray([[[0,0] for j in range(3)] for i in range(3)])\n",
    "\n",
    "god[2,0,1]=6\n",
    "print god"
   ]
  }
 ],
 "metadata": {
  "kernelspec": {
   "display_name": "Python 2",
   "language": "python",
   "name": "python2"
  },
  "language_info": {
   "codemirror_mode": {
    "name": "ipython",
    "version": 2
   },
   "file_extension": ".py",
   "mimetype": "text/x-python",
   "name": "python",
   "nbconvert_exporter": "python",
   "pygments_lexer": "ipython2",
   "version": "2.7.12"
  }
 },
 "nbformat": 4,
 "nbformat_minor": 0
}
