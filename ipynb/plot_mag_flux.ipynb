{
 "cells": [
  {
   "cell_type": "code",
   "execution_count": 202,
   "metadata": {
    "collapsed": false
   },
   "outputs": [
    {
     "name": "stdout",
     "output_type": "stream",
     "text": [
      "[0.0037911020551084367, 0.005403556028643072, 0.0039334811021663274] [0.0049857311982295606, 0.007803601631481679, 0.0048895088866965945] [0.01700546627612382, 0.010370025108585045, 0.01295207285890679] [0.027831477283978192, 0.014520531129835541, 0.01599474179293551]\n"
     ]
    }
   ],
   "source": [
    "import numpy as np\n",
    "import matplotlib.pyplot as plt\n",
    "from math import sqrt\n",
    "\n",
    "#flux4_475=[3.454567,4.0425484,2.8186595]   #sys4(f475w,not-corrected)\n",
    "#flux9_475=[0.34168658,0.32283738,0.34052953]  #sys9(f475w,not-corrected)\n",
    "#flux4_435=[2.54858 ,3.0472208,1.9152368]   #sys4(f435w,not-corrected)\n",
    "#flux9_435=[0.25136217,0.21746042,0.28955571]  #sys9(f435w,not-corrected)\n",
    "#flux6_105=[48.435538,46.959979,31.339722]   #sys6(f105w,not-corrected)\n",
    "t475=18060.\n",
    "t435=46260.\n",
    "flux6_814=[10.0,13.4,6.7]              #sys6(f814w,corrected)\n",
    "flux4_475=[3.475,3.84,2.86]               #sys4(f475w,corrected)\n",
    "flux9_475=[0.37736,0.2578,0.344123]                #sys9(f475w,corrected)\n",
    "flux4_435=[2.339,2.58796,2.075]            #sys4(f435w,corrected)\n",
    "flux9_435=[0.268211,0.212864,0.275426]     #sys9 (f435w,corrected)\n",
    "\n",
    "area4_435=[1251,1013,774]\n",
    "area4_475=[1373,1076,777]\n",
    "area9_435=[164,133,165]\n",
    "area9_475=[160,97,149]\n",
    "area6=[2435,5002,2630]\n",
    "\n",
    "noise4_435=[ 0.000121582,0.000381260,3.94305e-05]\n",
    "noise4_475=[-1.0e-5,1.6e-4,-1.6e-4]\n",
    "noise9_475=[-0.0001963,0.000353,-5.317e-5]\n",
    "noise9_435=[-5.3e-5,5.0e-5,6.0e-5]\n",
    "\n",
    "mag6=[5.97739,7.22626,4.99934]   #ver81(sys6)\n",
    "mag4=[5.5329,6.53753,4.1253]   #ver81(sys4)\n",
    "mag9=[5.85724,5.70405,3.2267]     #ver81(sys9)\n",
    "\n",
    "err4_435=[0]*3\n",
    "err4_475=[0]*3\n",
    "err9_435=[0]*3\n",
    "err9_475=[0]*3\n",
    "error4_435=[0]*3\n",
    "error4_475=[0]*3\n",
    "error9_435=[0]*3\n",
    "error9_475=[0]*3\n",
    "mag_ratio4=[0]*3\n",
    "mag_ratio6=[0]*3\n",
    "mag_ratio9=[0]*3\n",
    "flux_ratio6=[0]*3\n",
    "flux_ratio9=[0]*3\n",
    "flux_ratio4=[0]*3\n",
    "flux_mag9=[0]*3\n",
    "flux_mag6=[0]*3\n",
    "flux_mag4=[0]*3\n",
    "\n",
    "for i in range(3):\n",
    "    flux4_435[i]=flux4_435[i]*t435\n",
    "    flux4_475[i]=flux4_475[i]*t475\n",
    "    flux9_435[i]=flux9_435[i]*t435\n",
    "    flux9_475[i]=flux9_475[i]*t475\n",
    "\n",
    "for i in range(3):\n",
    "    mag_ratio4[i]=mag4[i]/mag4[(i+1)%3]\n",
    "    flux_ratio4[i]=flux4_475[i]/flux4_475[(i+1)%3]\n",
    "    flux_mag4[i]=flux_ratio4[i]/mag_ratio4[i]\n",
    "    \n",
    "for i in range(3):\n",
    "    err4_435[i]=sqrt(sqrt(pow(flux4_435[i],2)+pow(noise4_435[i]*area4_435[i],2)))\n",
    "    err4_475[i]=sqrt(sqrt(pow(flux4_475[i],2)+pow(noise4_475[i]*area4_475[i],2)))\n",
    "    err9_435[i]=sqrt(sqrt(pow(flux9_435[i],2)+pow(noise9_435[i]*area9_435[i],2)))\n",
    "    err9_475[i]=sqrt(sqrt(pow(flux9_475[i],2)+pow(noise9_475[i]*area9_475[i],2)))\n",
    "    \n",
    "for i in range(3):\n",
    "    error4_435[i]=flux4_435[i]/flux4_435[(i+1)%3]*\\\n",
    "    sqrt(pow(err4_435[i]/flux4_435[i],2)+pow(err4_435[(i+1)%3]/flux4_435[(i+1)%3],2))\n",
    "    error4_475[i]=(flux4_475[i]/flux4_475[(i+1)%3])*\\\n",
    "    sqrt(pow(err4_475[i]/flux4_475[i],2)+pow(err4_475[(i+1)%3]/flux4_475[(i+1)%3],2))\n",
    "    error9_435[i]=flux9_435[i]/flux9_435[(i+1)%3]*\\\n",
    "    sqrt(pow(err9_435[i]/flux9_435[i],2)+pow(err9_435[(i+1)%3]/flux9_435[(i+1)%3],2))\n",
    "    error9_475[i]=(flux9_475[i]/flux9_475[(i+1)%3])*\\\n",
    "    sqrt(pow(err9_475[i]/flux9_475[i],2)+pow(err9_475[(i+1)%3]/flux9_475[(i+1)%3],2))\n",
    "#     mag_ratio6[i]=mag6[i]/mag6[(i+1)%3]\n",
    "#     flux_ratio6[i]=flux6_814[i]/flux6_814[(i+1)%3]\n",
    "#     flux_mag6[i]=flux_ratio6[i]/mag_ratio6[i]\n",
    "    \n",
    "#     mag_ratio9[i]=mag9[i]/mag9[(i+1)%3]\n",
    "#     flux_ratio9[i]=flux9_475[i]/flux9_475[(i+1)%3]\n",
    "#     flux_mag9[i]=flux_ratio9[i]/mag_ratio9[i]\n",
    "\n",
    "#     mag_ratio1[i]=mag1[i]/mag2[2-i]   #4:9\n",
    "#     mag_ratio2[i]=mag5[(i+2)%3]/mag2[2-i]   #6:9\n",
    "#     mag_ratio3[i]=mag1[i]/mag5[(i+2)%3]   #4:6\n",
    "#     flux_ratio1[i]=flux3[i]/flux4[2-i]   #4(435):9(435)\n",
    "#     flux_ratio2[i]=flux5[(i+2)%3]/flux4[2-i]   #6:9\n",
    "#     flux_ratio3[i]=flux3[i]/flux5[(i+2)%3]   #4:6\n",
    "#     flux_ratio4[i]=flux1[i]/flux2[2-i]   #4(475):9(475)\n",
    "x2=[0]*3; x3=[0]*3; x1=range(3)\n",
    "for i in range(3):\n",
    "    x2[i]=x1[i]+0.005\n",
    "    x3[i]=x1[i]+0.01\n",
    "y=[1]*3\n",
    "\n",
    "print error4_435,error4_475,error9_435,error9_475\n",
    "#plt.figure()\n",
    "plt.plot(x1,mag_ratio4,'o',label='magnification ratio')\n",
    "plt.errorbar(x2,flux_ratio4,yerr=error4_475,fmt='o',label='flux ratio')\n",
    "plt.plot(x3,flux_mag4,'o',label='flux ratio:mag ratio')\n",
    "plt.axis([-1, 3,0,3])    #control plot dimensions\n",
    "plt.legend(loc='lower center', shadow=True, bbox_to_anchor=(0.5, -0.05),\n",
    "          fancybox=True, ncol=3)\n",
    "plt.suptitle('new model,filtered',fontsize=20)\n",
    "plt.text(0.,0.2,'4.1/4.2')\n",
    "plt.text(1.,0.2,'4.2/4.3')\n",
    "plt.text(2.,0.2,'4.3/4.1')\n",
    "# plt.text(0.,0.2,'9.1/9.2')\n",
    "# plt.text(1.,0.2,'9.2/9.3')\n",
    "# plt.text(2.,0.2,'9.3/9.1')\n",
    "# plt.text(0.,0.2,'6.1/6.2')\n",
    "# plt.text(1.,0.2,'6.2/6.3')\n",
    "# plt.text(2.,0.2,'6.3/6.1')\n",
    "# plt.text(3.,0.2,'24.1/24.2')\n",
    "# plt.text(4.,0.2,'24.2/24.3')\n",
    "# plt.text(5.,0.2,'24.3/24.1')\n",
    "\n",
    "# plt.text(0.,0.2,'l4.1/l6.3')\n",
    "# plt.text(1.,0.2,'m4.2/m6.1')\n",
    "# plt.text(2.,0.2,'r4.3/r6.2')\n",
    "# plt.text(0.,0.2,'l6.3/l9.3')\n",
    "# plt.text(1.,0.2,'m6.1/m9.2')\n",
    "# plt.text(2.,0.2,'r6.2/r9.1')\n",
    "# plt.text(0.,0.2,'l4.1/l9.3')\n",
    "# plt.text(1.,0.2,'m4.2/m9.2')\n",
    "# plt.text(2.,0.2,'r4.3/r9.1')\n",
    "\n",
    "plt.text(-0.8,0.5,'4.1 4.2 4.3')\n",
    "plt.text(-0.8,0.4,'6.3 6.1 6.2')\n",
    "plt.text(-0.8,0.3,'9.3 9.2 9.1')\n",
    "\n",
    "plt.plot(x1,y)\n",
    "plt.show()\n"
   ]
  },
  {
   "cell_type": "code",
   "execution_count": 152,
   "metadata": {
    "collapsed": false
   },
   "outputs": [
    {
     "name": "stdout",
     "output_type": "stream",
     "text": [
      "-0.000128117932036\n"
     ]
    }
   ],
   "source": [
    "from photutils.background import Background\n",
    "from astropy.visualization import SqrtStretch\n",
    "from astropy.visualization.mpl_normalize import ImageNormalize\n",
    "from astropy.stats import biweight_location\n",
    "from astropy.stats import sigma_clipped_stats\n",
    "from astropy.io import fits\n",
    "import matplotlib.pylab as plt\n",
    "import numpy as np\n",
    "\n",
    "x1=2561; x2=2651\n",
    "y1=3037; y2=3159\n",
    "\n",
    "dat=np.zeros((x2-x1,y2-y1))\n",
    "\n",
    "f=fits.open('/home/lkit/Data/Jan_data/30mas_v0.5_f435w.fits')\n",
    "for i in xrange(x1,x2):\n",
    "    for j in xrange(y1,y2):\n",
    "        dat[i-2561,j-3037]=(f[0].data[i])[j]\n",
    "f.close()\n",
    "\n",
    "\n",
    "bkg = Background(dat, (80, 50), filter_shape=(3, 3), method='median')\n",
    "print(bkg.background_median)\n",
    "plt.imshow(bkg.background, origin='lower', cmap='Greys_r')\n",
    "plt.show()\n",
    "\n",
    "# data = make_100gaussians_image()\n",
    "# norm = ImageNormalize(stretch=SqrtStretch())\n",
    "# plt.imshow(data, origin='lower', cmap='Greys_r', norm=norm)\n",
    "# plt.show()\n",
    "# print(np.median(data))\n",
    "# print biweight_location(data)\n",
    "\n",
    "# mean, median, std = sigma_clipped_stats(data, sigma=3.0, iters=5)\n",
    "# print((mean, median, std))\n"
   ]
  },
  {
   "cell_type": "code",
   "execution_count": 194,
   "metadata": {
    "collapsed": false
   },
   "outputs": [
    {
     "name": "stdout",
     "output_type": "stream",
     "text": [
      "42\n"
     ]
    }
   ],
   "source": [
    "x=2*3* \\\n",
    "    7\n",
    "print x"
   ]
  },
  {
   "cell_type": "code",
   "execution_count": null,
   "metadata": {
    "collapsed": true
   },
   "outputs": [],
   "source": []
  }
 ],
 "metadata": {
  "kernelspec": {
   "display_name": "Python 2",
   "language": "python",
   "name": "python2"
  },
  "language_info": {
   "codemirror_mode": {
    "name": "ipython",
    "version": 2
   },
   "file_extension": ".py",
   "mimetype": "text/x-python",
   "name": "python",
   "nbconvert_exporter": "python",
   "pygments_lexer": "ipython2",
   "version": "2.7.10"
  }
 },
 "nbformat": 4,
 "nbformat_minor": 0
}
