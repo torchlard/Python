{
 "cells": [
  {
   "cell_type": "code",
   "execution_count": 33,
   "metadata": {
    "collapsed": false
   },
   "outputs": [
    {
     "name": "stdout",
     "output_type": "stream",
     "text": [
      "19600000\n"
     ]
    }
   ],
   "source": [
    "import numpy as np\n",
    "# f=open(\"/home/lkit/wslap/data/A370/fiducial/1400scale_v7/mass_map_A370.dat\")\n",
    "# data=np.asarray([map(float,s.split()) for s in f])\n",
    "# f.close()\n",
    "# for i in range(len(data)):\n",
    "#     a=data[i,3]\n",
    "#     if (a!=1 and a!=5 and a!=8):\n",
    "#         data[i,3]=1\n",
    "#     if (a==5):\n",
    "#         data[i,3]=2\n",
    "#     if (a==8):\n",
    "#         data[i,3]=3\n",
    "f=open('/home/lkit/tmp/how')\n",
    "for i in data:\n",
    "    for j in i:\n",
    "        f.write(\"%f\\t\\t\" %j)\n",
    "    f.write(\"\\n\")\n",
    "f.close()\n"
   ]
  },
  {
   "cell_type": "code",
   "execution_count": null,
   "metadata": {
    "collapsed": true
   },
   "outputs": [],
   "source": [
    "import numpy as np\n",
    "f=open('/home/lkit/tmp/how')\n",
    "data=np.asarray([map(float,s.split()) for s in f])\n",
    "f.close()\n",
    "for i in range(len(data)):\n",
    "    a=data[i,3]\n",
    "    "
   ]
  }
 ],
 "metadata": {
  "kernelspec": {
   "display_name": "Python 2",
   "language": "python",
   "name": "python2"
  },
  "language_info": {
   "codemirror_mode": {
    "name": "ipython",
    "version": 2
   },
   "file_extension": ".py",
   "mimetype": "text/x-python",
   "name": "python",
   "nbconvert_exporter": "python",
   "pygments_lexer": "ipython2",
   "version": "2.7.10"
  }
 },
 "nbformat": 4,
 "nbformat_minor": 0
}
