{
 "cells": [
  {
   "cell_type": "code",
   "execution_count": 217,
   "metadata": {
    "collapsed": false
   },
   "outputs": [
    {
     "name": "stdout",
     "output_type": "stream",
     "text": [
      "finish\n"
     ]
    }
   ],
   "source": [
    "from __future__ import division\n",
    "import numpy as np\n",
    "\n",
    "ra_c=39.969108\n",
    "dec_c=-1.5787901+0.0000803\n",
    "resolution=30  #mas\n",
    "Npix=5600\n",
    "\n",
    "header=['']*31\n",
    "f=open('/home/lkit/Data/hlsp_glass_hst_wfc3_a370-fullfov-pa999_ir_v001_redshiftcatalog.txt')\n",
    "for i in range(31):\n",
    "    header[i]=(f.readline()).strip()\n",
    "l=np.asarray([map(float,(line.split())[0:6]) for line in f])\n",
    "f.close()\n",
    "f=open('/home/lkit/Data/hlsp_glass_hst_wfc3_a370-fullfov-pa999_ir_v001_redshiftcatalog.txt')\n",
    "for i in range(31):\n",
    "    next(f)\n",
    "comment=np.asarray([map(str,(line.split())[6:]) for line in f])\n",
    "f.close()\n",
    "\n",
    "n=len(l)\n",
    "ra=l[:,1]\n",
    "dec=l[:,2]+0.0000803\n",
    "imageX = Npix/2-((ra-ra_c)*60*60*1000/resolution)    #fk5 -> image\n",
    "imageY = Npix/2+((dec-dec_c)*60*60*1000/resolution)\n",
    "l[:,1]=imageX; l[:,2]=imageY;\n",
    "\n",
    "str1= [[\"%.4f\" % x for x in y] for y in l]\n",
    "\n",
    "str2=[''.join('{0:15}'.format(i) for i in j).strip() for j in str1]\n",
    "comment2=[' '.join(i) for i in comment]\n",
    "out=['      '.join(i) for i in np.column_stack((str2,comment2))]\n",
    "\n",
    "f=open('/home/lkit/Data/Redshift_Catalog_5600scale','w')\n",
    "for i in range(31):\n",
    "    f.write(str(header[i]))\n",
    "    f.write('\\n')\n",
    "np.savetxt(f,out,fmt='%s')\n",
    "f.close()\n",
    "print 'finish'"
   ]
  }
 ],
 "metadata": {
  "kernelspec": {
   "display_name": "Python 2",
   "language": "python",
   "name": "python2"
  },
  "language_info": {
   "codemirror_mode": {
    "name": "ipython",
    "version": 2
   },
   "file_extension": ".py",
   "mimetype": "text/x-python",
   "name": "python",
   "nbconvert_exporter": "python",
   "pygments_lexer": "ipython2",
   "version": "2.7.10"
  }
 },
 "nbformat": 4,
 "nbformat_minor": 0
}
