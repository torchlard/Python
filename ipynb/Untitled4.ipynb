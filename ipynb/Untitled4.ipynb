{
 "cells": [
  {
   "cell_type": "code",
   "execution_count": 7,
   "metadata": {
    "collapsed": false
   },
   "outputs": [],
   "source": [
    "import matplotlib.pyplot as plt\n",
    "\n",
    "f1=[16.667732,18.313344,19.516314,20.298,22.511992,24.336895,27.314784]\n",
    "a1=[2734,3276,3748,4059,5166,5941,7612]\n",
    "f2=[11.660199,12.834349,13.867065,14.754256,15.361147,16.181223,17.03787,18.392686]\n",
    "a2=[2237,2719,3209,3738,4119,4605,5608,7501]\n",
    "f3=[7.2832746,8.5541352,9.5450456,11.014343,11.807974,12.978416,13.435317,14.72795]\n",
    "a3=[1445,1852,2259,2984,3504,4487,5044,6722]\n",
    "\n",
    "plt.plot(a1,f1,label='6.1')\n",
    "plt.plot(a2,f2,label='6.2')\n",
    "plt.plot(a3,f3,label='6.3')\n",
    "plt.legend(loc='upper center', shadow=True, bbox_to_anchor=(0.5, -0.05),\n",
    "          fancybox=True, ncol=3)\n",
    "plt.show()"
   ]
  }
 ],
 "metadata": {
  "kernelspec": {
   "display_name": "Python 2",
   "language": "python",
   "name": "python2"
  },
  "language_info": {
   "codemirror_mode": {
    "name": "ipython",
    "version": 2
   },
   "file_extension": ".py",
   "mimetype": "text/x-python",
   "name": "python",
   "nbconvert_exporter": "python",
   "pygments_lexer": "ipython2",
   "version": "2.7.10"
  }
 },
 "nbformat": 4,
 "nbformat_minor": 0
}
