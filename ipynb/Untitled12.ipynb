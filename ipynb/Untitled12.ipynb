{
 "cells": [
  {
   "cell_type": "code",
   "execution_count": 1,
   "metadata": {
    "collapsed": false
   },
   "outputs": [
    {
     "name": "stdout",
     "output_type": "stream",
     "text": [
      "done2\n"
     ]
    }
   ],
   "source": [
    "f=open(\"/home/lkit/wslap/data/A370/fiducial/mass_map_A370.dat\")\n",
    "data= [map(float,r.split()) for r in f]\n",
    "f.close()\n",
    "f=open('/home/lkit/wslap/data/A370/fiducial/mass_map_A370_2.dat','w')\n",
    "for i in data:\n",
    "    f.write('\\t{0:4d}\\t\\t{1:4d}\\t\\t{2:0.13f}\\t\\t{3:4d}\\n'.format(int(i[0]),int(i[1]),i[2]/4.,int(i[3])))\n",
    "f.close()\n",
    "print 'done2'"
   ]
  },
  {
   "cell_type": "code",
   "execution_count": 44,
   "metadata": {
    "collapsed": false
   },
   "outputs": [
    {
     "name": "stdout",
     "output_type": "stream",
     "text": [
      "0.031268\n"
     ]
    }
   ],
   "source": [
    "f=open('/home/lkit/tmp/testing')\n",
    "data= [map(float,r.split()) for r in f]\n",
    "f.close()\n",
    "result=0\n",
    "for i in data:\n",
    "    result += i[2]\n",
    "print result"
   ]
  }
 ],
 "metadata": {
  "kernelspec": {
   "display_name": "Python 2",
   "language": "python",
   "name": "python2"
  },
  "language_info": {
   "codemirror_mode": {
    "name": "ipython",
    "version": 2
   },
   "file_extension": ".py",
   "mimetype": "text/x-python",
   "name": "python",
   "nbconvert_exporter": "python",
   "pygments_lexer": "ipython2",
   "version": "2.7.11+"
  }
 },
 "nbformat": 4,
 "nbformat_minor": 0
}
